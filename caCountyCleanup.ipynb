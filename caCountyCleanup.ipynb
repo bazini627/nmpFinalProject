{
 "cells": [
  {
   "cell_type": "code",
   "execution_count": 2,
   "metadata": {},
   "outputs": [],
   "source": [
    "import geopandas as gpd\n",
    "import fiona\n",
    "fiona.Env();"
   ]
  },
  {
   "cell_type": "markdown",
   "metadata": {},
   "source": [
    "### Pull in the CA counties GeoJSON"
   ]
  },
  {
   "cell_type": "code",
   "execution_count": 3,
   "metadata": {},
   "outputs": [],
   "source": [
    "ca_counties = gpd.read_file('./data/caCounties/caCountiesNoChannelIslands.geojson')"
   ]
  },
  {
   "cell_type": "code",
   "execution_count": 5,
   "metadata": {},
   "outputs": [
    {
     "data": {
      "text/html": [
       "<div>\n",
       "<style scoped>\n",
       "    .dataframe tbody tr th:only-of-type {\n",
       "        vertical-align: middle;\n",
       "    }\n",
       "\n",
       "    .dataframe tbody tr th {\n",
       "        vertical-align: top;\n",
       "    }\n",
       "\n",
       "    .dataframe thead th {\n",
       "        text-align: right;\n",
       "    }\n",
       "</style>\n",
       "<table border=\"1\" class=\"dataframe\">\n",
       "  <thead>\n",
       "    <tr style=\"text-align: right;\">\n",
       "      <th></th>\n",
       "      <th>fid</th>\n",
       "      <th>STATEFP</th>\n",
       "      <th>COUNTYFP</th>\n",
       "      <th>COUNTYNS</th>\n",
       "      <th>AFFGEOID</th>\n",
       "      <th>GEOID</th>\n",
       "      <th>NAME</th>\n",
       "      <th>LSAD</th>\n",
       "      <th>ALAND</th>\n",
       "      <th>AWATER</th>\n",
       "      <th>CASES</th>\n",
       "      <th>geometry</th>\n",
       "    </tr>\n",
       "  </thead>\n",
       "  <tbody>\n",
       "    <tr>\n",
       "      <th>0</th>\n",
       "      <td>0</td>\n",
       "      <td>06</td>\n",
       "      <td>075</td>\n",
       "      <td>00277302</td>\n",
       "      <td>0500000US06075</td>\n",
       "      <td>06075</td>\n",
       "      <td>San Francisco</td>\n",
       "      <td>06</td>\n",
       "      <td>121485107</td>\n",
       "      <td>479107241</td>\n",
       "      <td>0</td>\n",
       "      <td>(POLYGON ((-122.514483 37.780829, -122.509843 ...</td>\n",
       "    </tr>\n",
       "    <tr>\n",
       "      <th>1</th>\n",
       "      <td>2</td>\n",
       "      <td>06</td>\n",
       "      <td>111</td>\n",
       "      <td>00277320</td>\n",
       "      <td>0500000US06111</td>\n",
       "      <td>06111</td>\n",
       "      <td>Ventura</td>\n",
       "      <td>06</td>\n",
       "      <td>4773302741</td>\n",
       "      <td>946030569</td>\n",
       "      <td>1</td>\n",
       "      <td>(POLYGON ((-119.477837 34.379417, -119.473793 ...</td>\n",
       "    </tr>\n",
       "    <tr>\n",
       "      <th>2</th>\n",
       "      <td>0</td>\n",
       "      <td>06</td>\n",
       "      <td>071</td>\n",
       "      <td>00277300</td>\n",
       "      <td>0500000US06071</td>\n",
       "      <td>06071</td>\n",
       "      <td>San Bernardino</td>\n",
       "      <td>06</td>\n",
       "      <td>51948123813</td>\n",
       "      <td>123845007</td>\n",
       "      <td>0</td>\n",
       "      <td>(POLYGON ((-117.802539 33.975551, -117.79111 3...</td>\n",
       "    </tr>\n",
       "    <tr>\n",
       "      <th>3</th>\n",
       "      <td>0</td>\n",
       "      <td>06</td>\n",
       "      <td>043</td>\n",
       "      <td>00277286</td>\n",
       "      <td>0500000US06043</td>\n",
       "      <td>06043</td>\n",
       "      <td>Mariposa</td>\n",
       "      <td>06</td>\n",
       "      <td>3752472156</td>\n",
       "      <td>36225644</td>\n",
       "      <td>0</td>\n",
       "      <td>(POLYGON ((-120.394425 37.67504, -120.392504 3...</td>\n",
       "    </tr>\n",
       "    <tr>\n",
       "      <th>4</th>\n",
       "      <td>0</td>\n",
       "      <td>06</td>\n",
       "      <td>103</td>\n",
       "      <td>01692767</td>\n",
       "      <td>0500000US06103</td>\n",
       "      <td>06103</td>\n",
       "      <td>Tehama</td>\n",
       "      <td>06</td>\n",
       "      <td>7638228772</td>\n",
       "      <td>33767784</td>\n",
       "      <td>0</td>\n",
       "      <td>(POLYGON ((-123.065426 40.286971, -123.060729 ...</td>\n",
       "    </tr>\n",
       "  </tbody>\n",
       "</table>\n",
       "</div>"
      ],
      "text/plain": [
       "   fid STATEFP COUNTYFP  COUNTYNS        AFFGEOID  GEOID            NAME LSAD  \\\n",
       "0    0      06      075  00277302  0500000US06075  06075   San Francisco   06   \n",
       "1    2      06      111  00277320  0500000US06111  06111         Ventura   06   \n",
       "2    0      06      071  00277300  0500000US06071  06071  San Bernardino   06   \n",
       "3    0      06      043  00277286  0500000US06043  06043        Mariposa   06   \n",
       "4    0      06      103  01692767  0500000US06103  06103          Tehama   06   \n",
       "\n",
       "         ALAND     AWATER  CASES  \\\n",
       "0    121485107  479107241      0   \n",
       "1   4773302741  946030569      1   \n",
       "2  51948123813  123845007      0   \n",
       "3   3752472156   36225644      0   \n",
       "4   7638228772   33767784      0   \n",
       "\n",
       "                                            geometry  \n",
       "0  (POLYGON ((-122.514483 37.780829, -122.509843 ...  \n",
       "1  (POLYGON ((-119.477837 34.379417, -119.473793 ...  \n",
       "2  (POLYGON ((-117.802539 33.975551, -117.79111 3...  \n",
       "3  (POLYGON ((-120.394425 37.67504, -120.392504 3...  \n",
       "4  (POLYGON ((-123.065426 40.286971, -123.060729 ...  "
      ]
     },
     "execution_count": 5,
     "metadata": {},
     "output_type": "execute_result"
    }
   ],
   "source": [
    "ca_counties.head()"
   ]
  },
  {
   "cell_type": "markdown",
   "metadata": {},
   "source": [
    "### Drop a few of the columns"
   ]
  },
  {
   "cell_type": "code",
   "execution_count": 6,
   "metadata": {},
   "outputs": [],
   "source": [
    "ca_counties.drop(columns={'fid', 'CASES', 'AFFGEOID', 'STATEFP', 'COUNTYFP', 'LSAD'}, inplace=True)"
   ]
  },
  {
   "cell_type": "code",
   "execution_count": 7,
   "metadata": {},
   "outputs": [
    {
     "data": {
      "text/html": [
       "<div>\n",
       "<style scoped>\n",
       "    .dataframe tbody tr th:only-of-type {\n",
       "        vertical-align: middle;\n",
       "    }\n",
       "\n",
       "    .dataframe tbody tr th {\n",
       "        vertical-align: top;\n",
       "    }\n",
       "\n",
       "    .dataframe thead th {\n",
       "        text-align: right;\n",
       "    }\n",
       "</style>\n",
       "<table border=\"1\" class=\"dataframe\">\n",
       "  <thead>\n",
       "    <tr style=\"text-align: right;\">\n",
       "      <th></th>\n",
       "      <th>COUNTYNS</th>\n",
       "      <th>GEOID</th>\n",
       "      <th>NAME</th>\n",
       "      <th>ALAND</th>\n",
       "      <th>AWATER</th>\n",
       "      <th>geometry</th>\n",
       "    </tr>\n",
       "  </thead>\n",
       "  <tbody>\n",
       "    <tr>\n",
       "      <th>0</th>\n",
       "      <td>00277302</td>\n",
       "      <td>06075</td>\n",
       "      <td>San Francisco</td>\n",
       "      <td>121485107</td>\n",
       "      <td>479107241</td>\n",
       "      <td>(POLYGON ((-122.514483 37.780829, -122.509843 ...</td>\n",
       "    </tr>\n",
       "    <tr>\n",
       "      <th>1</th>\n",
       "      <td>00277320</td>\n",
       "      <td>06111</td>\n",
       "      <td>Ventura</td>\n",
       "      <td>4773302741</td>\n",
       "      <td>946030569</td>\n",
       "      <td>(POLYGON ((-119.477837 34.379417, -119.473793 ...</td>\n",
       "    </tr>\n",
       "    <tr>\n",
       "      <th>2</th>\n",
       "      <td>00277300</td>\n",
       "      <td>06071</td>\n",
       "      <td>San Bernardino</td>\n",
       "      <td>51948123813</td>\n",
       "      <td>123845007</td>\n",
       "      <td>(POLYGON ((-117.802539 33.975551, -117.79111 3...</td>\n",
       "    </tr>\n",
       "    <tr>\n",
       "      <th>3</th>\n",
       "      <td>00277286</td>\n",
       "      <td>06043</td>\n",
       "      <td>Mariposa</td>\n",
       "      <td>3752472156</td>\n",
       "      <td>36225644</td>\n",
       "      <td>(POLYGON ((-120.394425 37.67504, -120.392504 3...</td>\n",
       "    </tr>\n",
       "    <tr>\n",
       "      <th>4</th>\n",
       "      <td>01692767</td>\n",
       "      <td>06103</td>\n",
       "      <td>Tehama</td>\n",
       "      <td>7638228772</td>\n",
       "      <td>33767784</td>\n",
       "      <td>(POLYGON ((-123.065426 40.286971, -123.060729 ...</td>\n",
       "    </tr>\n",
       "  </tbody>\n",
       "</table>\n",
       "</div>"
      ],
      "text/plain": [
       "   COUNTYNS  GEOID            NAME        ALAND     AWATER  \\\n",
       "0  00277302  06075   San Francisco    121485107  479107241   \n",
       "1  00277320  06111         Ventura   4773302741  946030569   \n",
       "2  00277300  06071  San Bernardino  51948123813  123845007   \n",
       "3  00277286  06043        Mariposa   3752472156   36225644   \n",
       "4  01692767  06103          Tehama   7638228772   33767784   \n",
       "\n",
       "                                            geometry  \n",
       "0  (POLYGON ((-122.514483 37.780829, -122.509843 ...  \n",
       "1  (POLYGON ((-119.477837 34.379417, -119.473793 ...  \n",
       "2  (POLYGON ((-117.802539 33.975551, -117.79111 3...  \n",
       "3  (POLYGON ((-120.394425 37.67504, -120.392504 3...  \n",
       "4  (POLYGON ((-123.065426 40.286971, -123.060729 ...  "
      ]
     },
     "execution_count": 7,
     "metadata": {},
     "output_type": "execute_result"
    }
   ],
   "source": [
    "ca_counties.head()"
   ]
  },
  {
   "cell_type": "code",
   "execution_count": 8,
   "metadata": {},
   "outputs": [
    {
     "name": "stderr",
     "output_type": "stream",
     "text": [
      "C:\\Users\\MBacinsk\\AppData\\Local\\Continuum\\anaconda3\\envs\\mappingEnv\\lib\\site-packages\\geopandas\\io\\file.py:108: FionaDeprecationWarning: Use fiona.Env() instead.\n",
      "  with fiona.drivers():\n"
     ]
    }
   ],
   "source": [
    "ca_counties.to_file('./data/caCounties/caCountiesNoChannelIslands.geojson', driver='GeoJSON')"
   ]
  },
  {
   "cell_type": "code",
   "execution_count": null,
   "metadata": {},
   "outputs": [],
   "source": []
  }
 ],
 "metadata": {
  "kernelspec": {
   "display_name": "Python 3",
   "language": "python",
   "name": "python3"
  },
  "language_info": {
   "codemirror_mode": {
    "name": "ipython",
    "version": 3
   },
   "file_extension": ".py",
   "mimetype": "text/x-python",
   "name": "python",
   "nbconvert_exporter": "python",
   "pygments_lexer": "ipython3",
   "version": "3.7.2"
  }
 },
 "nbformat": 4,
 "nbformat_minor": 2
}
