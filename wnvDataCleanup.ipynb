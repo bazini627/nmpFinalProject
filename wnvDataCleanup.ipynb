{
 "cells": [
  {
   "cell_type": "code",
   "execution_count": 9,
   "metadata": {},
   "outputs": [],
   "source": [
    "import pandas as pd\n",
    "import geopandas as gpd\n",
    "from pandas.io.json import json_normalize"
   ]
  },
  {
   "cell_type": "markdown",
   "metadata": {},
   "source": [
    "### Script to combine all of the WNV JSON files into a single JSON"
   ]
  },
  {
   "cell_type": "code",
   "execution_count": 6,
   "metadata": {},
   "outputs": [],
   "source": [
    "import json\n",
    "import glob\n",
    "\n",
    "# Empty list for JSON data\n",
    "json_data = []\n",
    "\n",
    "# Loops through JSON files in data dir and extract the contents of each and append to the empty list declared above\n",
    "for file in glob.glob('./data/wnv/*.json'):\n",
    "    \n",
    "    # Open and read file in binary mode to keep data as is and not convert anything (e.g. new line, end of line) \n",
    "    with open(file, 'rb') as infile:\n",
    "        \n",
    "        # Append the currently open file to the json_data list\n",
    "        json_data.append(json.load(infile))\n",
    "\n",
    "# Output JSON data to new file \n",
    "with open('./data/wnv/output/wnv2003_2018.json', 'w') as outfile:\n",
    "    json.dump(json_data, outfile)\n"
   ]
  },
  {
   "cell_type": "markdown",
   "metadata": {},
   "source": [
    "### Read in the newly created JSON file"
   ]
  },
  {
   "cell_type": "code",
   "execution_count": 7,
   "metadata": {},
   "outputs": [],
   "source": [
    "json_data = pd.read_json('./data/wnv/output/wnv2003_2018.json')"
   ]
  },
  {
   "cell_type": "code",
   "execution_count": 8,
   "metadata": {},
   "outputs": [
    {
     "data": {
      "text/html": [
       "<div>\n",
       "<style scoped>\n",
       "    .dataframe tbody tr th:only-of-type {\n",
       "        vertical-align: middle;\n",
       "    }\n",
       "\n",
       "    .dataframe tbody tr th {\n",
       "        vertical-align: top;\n",
       "    }\n",
       "\n",
       "    .dataframe thead th {\n",
       "        text-align: right;\n",
       "    }\n",
       "</style>\n",
       "<table border=\"1\" class=\"dataframe\">\n",
       "  <thead>\n",
       "    <tr style=\"text-align: right;\">\n",
       "      <th></th>\n",
       "      <th>dead_bird</th>\n",
       "      <th>pool</th>\n",
       "      <th>sentinel</th>\n",
       "      <th>surveillance</th>\n",
       "    </tr>\n",
       "  </thead>\n",
       "  <tbody>\n",
       "    <tr>\n",
       "      <th>0</th>\n",
       "      <td>[]</td>\n",
       "      <td>[[-115.70778129001854, 32.76645731969914, Seel...</td>\n",
       "      <td>[[-115.70380745397101, 32.76212619660325, Seel...</td>\n",
       "      <td>[[0.000582078219765, 0.002604673449621, Pico R...</td>\n",
       "    </tr>\n",
       "    <tr>\n",
       "      <th>1</th>\n",
       "      <td>[[-117.25522355630525, 32.823325277519174,  Sa...</td>\n",
       "      <td>[[-115.58010559413997, 33.28432790549945, Nila...</td>\n",
       "      <td>[[-114.55182678654558, 32.7082798937531, Gila ...</td>\n",
       "      <td>[[-0.002241472419204, 0.002569742957021, Carso...</td>\n",
       "    </tr>\n",
       "    <tr>\n",
       "      <th>2</th>\n",
       "      <td>[[-117.97867287751602, 33.697905400098534, Hun...</td>\n",
       "      <td>[[-0.003564332429742, -0.000147758869172, Olym...</td>\n",
       "      <td>[[-115.58254061094442, 33.28339039855963, Nila...</td>\n",
       "      <td>[[-0.004401337486989, 0.0033883748530740003, C...</td>\n",
       "    </tr>\n",
       "    <tr>\n",
       "      <th>3</th>\n",
       "      <td>[[-117.03474443919946, 32.622200197317696, Chu...</td>\n",
       "      <td>[[-116.93776355835264, 32.824236764951166, LAK...</td>\n",
       "      <td>[[-114.64640592819218, 32.65938426782535, Yuma...</td>\n",
       "      <td>[[0.004869116032948, -0.002930758169498, None,...</td>\n",
       "    </tr>\n",
       "    <tr>\n",
       "      <th>4</th>\n",
       "      <td>[[-117.06524547408917, 32.57587171177409, San ...</td>\n",
       "      <td>[[-115.70536399338327, 33.06352430738503, West...</td>\n",
       "      <td>[[-115.7063219308171, 32.765271649553355, Seel...</td>\n",
       "      <td>[[0.0042305860051320004, 0.001971813442978, Un...</td>\n",
       "    </tr>\n",
       "  </tbody>\n",
       "</table>\n",
       "</div>"
      ],
      "text/plain": [
       "                                           dead_bird  \\\n",
       "0                                                 []   \n",
       "1  [[-117.25522355630525, 32.823325277519174,  Sa...   \n",
       "2  [[-117.97867287751602, 33.697905400098534, Hun...   \n",
       "3  [[-117.03474443919946, 32.622200197317696, Chu...   \n",
       "4  [[-117.06524547408917, 32.57587171177409, San ...   \n",
       "\n",
       "                                                pool  \\\n",
       "0  [[-115.70778129001854, 32.76645731969914, Seel...   \n",
       "1  [[-115.58010559413997, 33.28432790549945, Nila...   \n",
       "2  [[-0.003564332429742, -0.000147758869172, Olym...   \n",
       "3  [[-116.93776355835264, 32.824236764951166, LAK...   \n",
       "4  [[-115.70536399338327, 33.06352430738503, West...   \n",
       "\n",
       "                                            sentinel  \\\n",
       "0  [[-115.70380745397101, 32.76212619660325, Seel...   \n",
       "1  [[-114.55182678654558, 32.7082798937531, Gila ...   \n",
       "2  [[-115.58254061094442, 33.28339039855963, Nila...   \n",
       "3  [[-114.64640592819218, 32.65938426782535, Yuma...   \n",
       "4  [[-115.7063219308171, 32.765271649553355, Seel...   \n",
       "\n",
       "                                        surveillance  \n",
       "0  [[0.000582078219765, 0.002604673449621, Pico R...  \n",
       "1  [[-0.002241472419204, 0.002569742957021, Carso...  \n",
       "2  [[-0.004401337486989, 0.0033883748530740003, C...  \n",
       "3  [[0.004869116032948, -0.002930758169498, None,...  \n",
       "4  [[0.0042305860051320004, 0.001971813442978, Un...  "
      ]
     },
     "execution_count": 8,
     "metadata": {},
     "output_type": "execute_result"
    }
   ],
   "source": [
    "json_data.head()"
   ]
  },
  {
   "cell_type": "markdown",
   "metadata": {},
   "source": [
    "### Read in the JSON without assigning to a dataframe instead.  Seems like it may be easier to work with it this way"
   ]
  },
  {
   "cell_type": "code",
   "execution_count": 48,
   "metadata": {},
   "outputs": [],
   "source": [
    "with open('./data/wnv/output/wnv2003_2018.json') as f:\n",
    "    d = json.load(f)\n"
   ]
  },
  {
   "cell_type": "markdown",
   "metadata": {},
   "source": [
    "### Work with the first object in the JSON (which is 2005)"
   ]
  },
  {
   "cell_type": "code",
   "execution_count": 64,
   "metadata": {},
   "outputs": [],
   "source": [
    "year_05 = d[0]"
   ]
  },
  {
   "cell_type": "markdown",
   "metadata": {},
   "source": [
    "### Assign each specimen type to a variable to create a dataframe"
   ]
  },
  {
   "cell_type": "code",
   "execution_count": 71,
   "metadata": {},
   "outputs": [],
   "source": [
    "year_05_dead_bird = json_normalize(year_05, record_path='dead_bird') # No data\n",
    "year_05_pool = json_normalize(year_05, record_path='pool')\n",
    "year_05_sentinel = json_normalize(year_05, record_path='sentinel')\n",
    "year_05_surveillance = json_normalize(year_05, record_path='surveillance')"
   ]
  },
  {
   "cell_type": "code",
   "execution_count": 72,
   "metadata": {},
   "outputs": [
    {
     "data": {
      "text/html": [
       "<div>\n",
       "<style scoped>\n",
       "    .dataframe tbody tr th:only-of-type {\n",
       "        vertical-align: middle;\n",
       "    }\n",
       "\n",
       "    .dataframe tbody tr th {\n",
       "        vertical-align: top;\n",
       "    }\n",
       "\n",
       "    .dataframe thead th {\n",
       "        text-align: right;\n",
       "    }\n",
       "</style>\n",
       "<table border=\"1\" class=\"dataframe\">\n",
       "  <thead>\n",
       "    <tr style=\"text-align: right;\">\n",
       "      <th></th>\n",
       "      <th>0</th>\n",
       "      <th>1</th>\n",
       "      <th>2</th>\n",
       "      <th>3</th>\n",
       "      <th>4</th>\n",
       "      <th>5</th>\n",
       "    </tr>\n",
       "  </thead>\n",
       "  <tbody>\n",
       "    <tr>\n",
       "      <th>0</th>\n",
       "      <td>-115.707781</td>\n",
       "      <td>32.766457</td>\n",
       "      <td>Seeley</td>\n",
       "      <td>1</td>\n",
       "      <td>WNV</td>\n",
       "      <td>[[8-23-2005, 1]]</td>\n",
       "    </tr>\n",
       "    <tr>\n",
       "      <th>1</th>\n",
       "      <td>-115.705442</td>\n",
       "      <td>33.066456</td>\n",
       "      <td>Westmoreland</td>\n",
       "      <td>1</td>\n",
       "      <td>WNV</td>\n",
       "      <td>[[9-27-2005, 1]]</td>\n",
       "    </tr>\n",
       "    <tr>\n",
       "      <th>2</th>\n",
       "      <td>-115.651336</td>\n",
       "      <td>33.132296</td>\n",
       "      <td>Imperial</td>\n",
       "      <td>1</td>\n",
       "      <td>WNV</td>\n",
       "      <td>[[8-1-2005, 1]]</td>\n",
       "    </tr>\n",
       "    <tr>\n",
       "      <th>3</th>\n",
       "      <td>-115.614695</td>\n",
       "      <td>33.181391</td>\n",
       "      <td>Niland</td>\n",
       "      <td>3</td>\n",
       "      <td>WNV</td>\n",
       "      <td>[[5-25-2005, 1], [8-2-2005, 1], [9-27-2005, 1]]</td>\n",
       "    </tr>\n",
       "    <tr>\n",
       "      <th>4</th>\n",
       "      <td>-115.575128</td>\n",
       "      <td>33.286939</td>\n",
       "      <td>Niland</td>\n",
       "      <td>4</td>\n",
       "      <td>WNV</td>\n",
       "      <td>[[8-30-2005, 3], [9-13-2005, 1]]</td>\n",
       "    </tr>\n",
       "  </tbody>\n",
       "</table>\n",
       "</div>"
      ],
      "text/plain": [
       "            0          1             2  3    4  \\\n",
       "0 -115.707781  32.766457        Seeley  1  WNV   \n",
       "1 -115.705442  33.066456  Westmoreland  1  WNV   \n",
       "2 -115.651336  33.132296      Imperial  1  WNV   \n",
       "3 -115.614695  33.181391        Niland  3  WNV   \n",
       "4 -115.575128  33.286939        Niland  4  WNV   \n",
       "\n",
       "                                                 5  \n",
       "0                                 [[8-23-2005, 1]]  \n",
       "1                                 [[9-27-2005, 1]]  \n",
       "2                                  [[8-1-2005, 1]]  \n",
       "3  [[5-25-2005, 1], [8-2-2005, 1], [9-27-2005, 1]]  \n",
       "4                 [[8-30-2005, 3], [9-13-2005, 1]]  "
      ]
     },
     "execution_count": 72,
     "metadata": {},
     "output_type": "execute_result"
    }
   ],
   "source": [
    "year_05_pool.head()"
   ]
  },
  {
   "cell_type": "code",
   "execution_count": null,
   "metadata": {},
   "outputs": [],
   "source": []
  }
 ],
 "metadata": {
  "kernelspec": {
   "display_name": "Python 3",
   "language": "python",
   "name": "python3"
  },
  "language_info": {
   "codemirror_mode": {
    "name": "ipython",
    "version": 3
   },
   "file_extension": ".py",
   "mimetype": "text/x-python",
   "name": "python",
   "nbconvert_exporter": "python",
   "pygments_lexer": "ipython3",
   "version": "3.7.2"
  }
 },
 "nbformat": 4,
 "nbformat_minor": 2
}
