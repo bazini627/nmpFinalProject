{
 "cells": [
  {
   "cell_type": "code",
   "execution_count": 9,
   "metadata": {},
   "outputs": [],
   "source": [
    "import pandas as pd\n",
    "import geopandas as gpd\n",
    "from pandas.io.json import json_normalize"
   ]
  },
  {
   "cell_type": "markdown",
   "metadata": {},
   "source": [
    "### Script to combine all of the WNV JSON files into a single JSON"
   ]
  },
  {
   "cell_type": "code",
   "execution_count": 74,
   "metadata": {},
   "outputs": [],
   "source": [
    "import json\n",
    "import glob\n",
    "\n",
    "# Empty list for JSON data\n",
    "json_data = []\n",
    "\n",
    "# Loops through JSON files in data dir and extract the contents of each and append to the empty list declared above\n",
    "# Glob would would grab files randomly, using sorted to have glob pickup file sequentially. \n",
    "for file in sorted(glob.glob('./data/wnv/*.json')):\n",
    "    \n",
    "    # Open and read file in binary mode to keep data as is and not convert anything (e.g. new line, end of line) \n",
    "    with open(file, 'rb') as infile:\n",
    "        \n",
    "        # Append the currently open file to the json_data list\n",
    "        json_data.append(json.load(infile))\n",
    "\n",
    "# Output JSON data to new file \n",
    "with open('./data/wnv/output/wnv2003_2018.json', 'w') as outfile:\n",
    "    json.dump(json_data, outfile)\n"
   ]
  },
  {
   "cell_type": "markdown",
   "metadata": {},
   "source": [
    "### Read in the newly created JSON file"
   ]
  },
  {
   "cell_type": "code",
   "execution_count": 75,
   "metadata": {},
   "outputs": [],
   "source": [
    "json_data = pd.read_json('./data/wnv/output/wnv2003_2018.json')"
   ]
  },
  {
   "cell_type": "code",
   "execution_count": 76,
   "metadata": {},
   "outputs": [
    {
     "data": {
      "text/html": [
       "<div>\n",
       "<style scoped>\n",
       "    .dataframe tbody tr th:only-of-type {\n",
       "        vertical-align: middle;\n",
       "    }\n",
       "\n",
       "    .dataframe tbody tr th {\n",
       "        vertical-align: top;\n",
       "    }\n",
       "\n",
       "    .dataframe thead th {\n",
       "        text-align: right;\n",
       "    }\n",
       "</style>\n",
       "<table border=\"1\" class=\"dataframe\">\n",
       "  <thead>\n",
       "    <tr style=\"text-align: right;\">\n",
       "      <th></th>\n",
       "      <th>dead_bird</th>\n",
       "      <th>pool</th>\n",
       "      <th>sentinel</th>\n",
       "      <th>surveillance</th>\n",
       "    </tr>\n",
       "  </thead>\n",
       "  <tbody>\n",
       "    <tr>\n",
       "      <th>0</th>\n",
       "      <td>[]</td>\n",
       "      <td>[[-115.55991333277777, 32.79452379068916, El C...</td>\n",
       "      <td>[]</td>\n",
       "      <td>[[-0.0037874454854030003, 0.004151121647450000...</td>\n",
       "    </tr>\n",
       "    <tr>\n",
       "      <th>1</th>\n",
       "      <td>[]</td>\n",
       "      <td>[[-115.70874635314847, 32.760950501453685, See...</td>\n",
       "      <td>[[-115.70466298389093, 32.76097984589758, Seel...</td>\n",
       "      <td>[[0.00040120886695000003, -0.00237453044225900...</td>\n",
       "    </tr>\n",
       "    <tr>\n",
       "      <th>2</th>\n",
       "      <td>[]</td>\n",
       "      <td>[[-115.70778129001854, 32.76645731969914, Seel...</td>\n",
       "      <td>[[-115.70380745397101, 32.76212619660325, Seel...</td>\n",
       "      <td>[[0.000582078219765, 0.002604673449621, Pico R...</td>\n",
       "    </tr>\n",
       "    <tr>\n",
       "      <th>3</th>\n",
       "      <td>[[-117.06524547408917, 32.57587171177409, San ...</td>\n",
       "      <td>[[-115.70536399338327, 33.06352430738503, West...</td>\n",
       "      <td>[[-115.7063219308171, 32.765271649553355, Seel...</td>\n",
       "      <td>[[0.0042305860051320004, 0.001971813442978, Un...</td>\n",
       "    </tr>\n",
       "    <tr>\n",
       "      <th>4</th>\n",
       "      <td>[[-117.08130333018387, 32.64154680042579, Chul...</td>\n",
       "      <td>[[-117.03840702222823, 32.59563784834163, Chul...</td>\n",
       "      <td>[[-115.7048189736365, 32.75950529599969, Seele...</td>\n",
       "      <td>[[-0.004922821113662001, -0.004294370979541, C...</td>\n",
       "    </tr>\n",
       "  </tbody>\n",
       "</table>\n",
       "</div>"
      ],
      "text/plain": [
       "                                           dead_bird  \\\n",
       "0                                                 []   \n",
       "1                                                 []   \n",
       "2                                                 []   \n",
       "3  [[-117.06524547408917, 32.57587171177409, San ...   \n",
       "4  [[-117.08130333018387, 32.64154680042579, Chul...   \n",
       "\n",
       "                                                pool  \\\n",
       "0  [[-115.55991333277777, 32.79452379068916, El C...   \n",
       "1  [[-115.70874635314847, 32.760950501453685, See...   \n",
       "2  [[-115.70778129001854, 32.76645731969914, Seel...   \n",
       "3  [[-115.70536399338327, 33.06352430738503, West...   \n",
       "4  [[-117.03840702222823, 32.59563784834163, Chul...   \n",
       "\n",
       "                                            sentinel  \\\n",
       "0                                                 []   \n",
       "1  [[-115.70466298389093, 32.76097984589758, Seel...   \n",
       "2  [[-115.70380745397101, 32.76212619660325, Seel...   \n",
       "3  [[-115.7063219308171, 32.765271649553355, Seel...   \n",
       "4  [[-115.7048189736365, 32.75950529599969, Seele...   \n",
       "\n",
       "                                        surveillance  \n",
       "0  [[-0.0037874454854030003, 0.004151121647450000...  \n",
       "1  [[0.00040120886695000003, -0.00237453044225900...  \n",
       "2  [[0.000582078219765, 0.002604673449621, Pico R...  \n",
       "3  [[0.0042305860051320004, 0.001971813442978, Un...  \n",
       "4  [[-0.004922821113662001, -0.004294370979541, C...  "
      ]
     },
     "execution_count": 76,
     "metadata": {},
     "output_type": "execute_result"
    }
   ],
   "source": [
    "json_data.head()"
   ]
  },
  {
   "cell_type": "markdown",
   "metadata": {},
   "source": [
    "### Read in the JSON without assigning to a dataframe instead.  Seems like it may be easier to work with it this way"
   ]
  },
  {
   "cell_type": "code",
   "execution_count": 77,
   "metadata": {},
   "outputs": [],
   "source": [
    "with open('./data/wnv/output/wnv2003_2018.json') as f:\n",
    "    d = json.load(f)\n"
   ]
  },
  {
   "cell_type": "markdown",
   "metadata": {},
   "source": [
    "### Work with the first object in the JSON (which is 2003)"
   ]
  },
  {
   "cell_type": "code",
   "execution_count": 78,
   "metadata": {},
   "outputs": [],
   "source": [
    "year_03 = d[0]"
   ]
  },
  {
   "cell_type": "markdown",
   "metadata": {},
   "source": [
    "### Assign each specimen type to a variable to create a dataframe"
   ]
  },
  {
   "cell_type": "code",
   "execution_count": 81,
   "metadata": {},
   "outputs": [],
   "source": [
    "year_03_dead_bird = json_normalize(year_03, record_path='dead_bird') # No data\n",
    "year_03_pool = json_normalize(year_03, record_path='pool')\n",
    "year_03_sentinel = json_normalize(year_03, record_path='sentinel')\n",
    "year_03_surveillance = json_normalize(year_03, record_path='surveillance')"
   ]
  },
  {
   "cell_type": "code",
   "execution_count": 82,
   "metadata": {},
   "outputs": [
    {
     "data": {
      "text/html": [
       "<div>\n",
       "<style scoped>\n",
       "    .dataframe tbody tr th:only-of-type {\n",
       "        vertical-align: middle;\n",
       "    }\n",
       "\n",
       "    .dataframe tbody tr th {\n",
       "        vertical-align: top;\n",
       "    }\n",
       "\n",
       "    .dataframe thead th {\n",
       "        text-align: right;\n",
       "    }\n",
       "</style>\n",
       "<table border=\"1\" class=\"dataframe\">\n",
       "  <thead>\n",
       "    <tr style=\"text-align: right;\">\n",
       "      <th></th>\n",
       "      <th>0</th>\n",
       "      <th>1</th>\n",
       "      <th>2</th>\n",
       "      <th>3</th>\n",
       "      <th>4</th>\n",
       "      <th>5</th>\n",
       "    </tr>\n",
       "  </thead>\n",
       "  <tbody>\n",
       "    <tr>\n",
       "      <th>0</th>\n",
       "      <td>-115.559913</td>\n",
       "      <td>32.794524</td>\n",
       "      <td>El Centro</td>\n",
       "      <td>1</td>\n",
       "      <td>WNV</td>\n",
       "      <td>[[9-16-2003, 1]]</td>\n",
       "    </tr>\n",
       "    <tr>\n",
       "      <th>1</th>\n",
       "      <td>-115.584980</td>\n",
       "      <td>32.799079</td>\n",
       "      <td>El Centro</td>\n",
       "      <td>1</td>\n",
       "      <td>WNV</td>\n",
       "      <td>[[7-16-2003, 1]]</td>\n",
       "    </tr>\n",
       "    <tr>\n",
       "      <th>2</th>\n",
       "      <td>-115.415710</td>\n",
       "      <td>32.798719</td>\n",
       "      <td>Niland</td>\n",
       "      <td>1</td>\n",
       "      <td>WNV</td>\n",
       "      <td>[[9-16-2003, 1]]</td>\n",
       "    </tr>\n",
       "    <tr>\n",
       "      <th>3</th>\n",
       "      <td>-115.610700</td>\n",
       "      <td>33.181100</td>\n",
       "      <td>Niland</td>\n",
       "      <td>4</td>\n",
       "      <td>WNV</td>\n",
       "      <td>[[8-19-2003, 2], [9-2-2003, 2]]</td>\n",
       "    </tr>\n",
       "    <tr>\n",
       "      <th>4</th>\n",
       "      <td>-115.575977</td>\n",
       "      <td>33.277483</td>\n",
       "      <td>Niland</td>\n",
       "      <td>8</td>\n",
       "      <td>WNV</td>\n",
       "      <td>[[8-4-2003, 1], [8-19-2003, 2], [9-2-2003, 3],...</td>\n",
       "    </tr>\n",
       "  </tbody>\n",
       "</table>\n",
       "</div>"
      ],
      "text/plain": [
       "            0          1          2  3    4  \\\n",
       "0 -115.559913  32.794524  El Centro  1  WNV   \n",
       "1 -115.584980  32.799079  El Centro  1  WNV   \n",
       "2 -115.415710  32.798719     Niland  1  WNV   \n",
       "3 -115.610700  33.181100     Niland  4  WNV   \n",
       "4 -115.575977  33.277483     Niland  8  WNV   \n",
       "\n",
       "                                                   5  \n",
       "0                                   [[9-16-2003, 1]]  \n",
       "1                                   [[7-16-2003, 1]]  \n",
       "2                                   [[9-16-2003, 1]]  \n",
       "3                    [[8-19-2003, 2], [9-2-2003, 2]]  \n",
       "4  [[8-4-2003, 1], [8-19-2003, 2], [9-2-2003, 3],...  "
      ]
     },
     "execution_count": 82,
     "metadata": {},
     "output_type": "execute_result"
    }
   ],
   "source": [
    "year_03_pool.head()"
   ]
  },
  {
   "cell_type": "code",
   "execution_count": null,
   "metadata": {},
   "outputs": [],
   "source": []
  }
 ],
 "metadata": {
  "kernelspec": {
   "display_name": "Python 3",
   "language": "python",
   "name": "python3"
  },
  "language_info": {
   "codemirror_mode": {
    "name": "ipython",
    "version": 3
   },
   "file_extension": ".py",
   "mimetype": "text/x-python",
   "name": "python",
   "nbconvert_exporter": "python",
   "pygments_lexer": "ipython3",
   "version": "3.7.2"
  }
 },
 "nbformat": 4,
 "nbformat_minor": 2
}
