{
 "cells": [
  {
   "cell_type": "code",
   "execution_count": 96,
   "metadata": {},
   "outputs": [],
   "source": [
    "import geopandas as gpd\n",
    "import pandas as pd\n",
    "import re\n",
    "import fiona\n",
    "fiona.Env(); # needed to resolve driver error when exporting to GeoJSON\n",
    "import numpy as np"
   ]
  },
  {
   "cell_type": "markdown",
   "metadata": {},
   "source": [
    "### Read in the SLE GeoJSON for 2015 to 2018"
   ]
  },
  {
   "cell_type": "code",
   "execution_count": 97,
   "metadata": {},
   "outputs": [],
   "source": [
    "sle_data = gpd.read_file('./data/sle/output/sle2015_2018.geojson')"
   ]
  },
  {
   "cell_type": "code",
   "execution_count": 98,
   "metadata": {},
   "outputs": [
    {
     "data": {
      "text/html": [
       "<div>\n",
       "<style scoped>\n",
       "    .dataframe tbody tr th:only-of-type {\n",
       "        vertical-align: middle;\n",
       "    }\n",
       "\n",
       "    .dataframe tbody tr th {\n",
       "        vertical-align: top;\n",
       "    }\n",
       "\n",
       "    .dataframe thead th {\n",
       "        text-align: right;\n",
       "    }\n",
       "</style>\n",
       "<table border=\"1\" class=\"dataframe\">\n",
       "  <thead>\n",
       "    <tr style=\"text-align: right;\">\n",
       "      <th></th>\n",
       "      <th>date</th>\n",
       "      <th>city</th>\n",
       "      <th>region</th>\n",
       "      <th>positive</th>\n",
       "      <th>title</th>\n",
       "      <th>geometry</th>\n",
       "    </tr>\n",
       "  </thead>\n",
       "  <tbody>\n",
       "    <tr>\n",
       "      <th>0</th>\n",
       "      <td>09/14/2015</td>\n",
       "      <td>Mecca</td>\n",
       "      <td>Riverside County (California, USA)</td>\n",
       "      <td>SLEV</td>\n",
       "      <td>YTD Positive Sentinel Chicken</td>\n",
       "      <td>POINT (-116.0302618249568 33.5276819108859)</td>\n",
       "    </tr>\n",
       "    <tr>\n",
       "      <th>1</th>\n",
       "      <td>09/10/2015</td>\n",
       "      <td>Mecca</td>\n",
       "      <td>Riverside County (California, USA)</td>\n",
       "      <td>SLEV</td>\n",
       "      <td>YTD Positive Sentinel Chicken</td>\n",
       "      <td>POINT (-116.0749179098212 33.54414473222415)</td>\n",
       "    </tr>\n",
       "    <tr>\n",
       "      <th>2</th>\n",
       "      <td>09/28/2015</td>\n",
       "      <td>Mecca</td>\n",
       "      <td>Riverside County (California, USA)</td>\n",
       "      <td>SLEV</td>\n",
       "      <td>YTD Positive Sentinel Chicken</td>\n",
       "      <td>POINT (-116.0788138626815 33.54292818890128)</td>\n",
       "    </tr>\n",
       "    <tr>\n",
       "      <th>3</th>\n",
       "      <td>09/23/2015</td>\n",
       "      <td>Mecca</td>\n",
       "      <td>Riverside County (California, USA)</td>\n",
       "      <td>SLEV</td>\n",
       "      <td>YTD Positive Sentinel Chicken</td>\n",
       "      <td>POINT (-116.0293803087907 33.5347901760566)</td>\n",
       "    </tr>\n",
       "    <tr>\n",
       "      <th>4</th>\n",
       "      <td>09/24/2015</td>\n",
       "      <td>Mecca</td>\n",
       "      <td>Riverside County (California, USA)</td>\n",
       "      <td>SLEV</td>\n",
       "      <td>YTD Positive Sentinel Chicken</td>\n",
       "      <td>POINT (-116.0755536165777 33.54329531806545)</td>\n",
       "    </tr>\n",
       "  </tbody>\n",
       "</table>\n",
       "</div>"
      ],
      "text/plain": [
       "         date   city                              region positive  \\\n",
       "0  09/14/2015  Mecca  Riverside County (California, USA)     SLEV   \n",
       "1  09/10/2015  Mecca  Riverside County (California, USA)     SLEV   \n",
       "2  09/28/2015  Mecca  Riverside County (California, USA)     SLEV   \n",
       "3  09/23/2015  Mecca  Riverside County (California, USA)     SLEV   \n",
       "4  09/24/2015  Mecca  Riverside County (California, USA)     SLEV   \n",
       "\n",
       "                           title                                      geometry  \n",
       "0  YTD Positive Sentinel Chicken   POINT (-116.0302618249568 33.5276819108859)  \n",
       "1  YTD Positive Sentinel Chicken  POINT (-116.0749179098212 33.54414473222415)  \n",
       "2  YTD Positive Sentinel Chicken  POINT (-116.0788138626815 33.54292818890128)  \n",
       "3  YTD Positive Sentinel Chicken   POINT (-116.0293803087907 33.5347901760566)  \n",
       "4  YTD Positive Sentinel Chicken  POINT (-116.0755536165777 33.54329531806545)  "
      ]
     },
     "execution_count": 98,
     "metadata": {},
     "output_type": "execute_result"
    }
   ],
   "source": [
    "sle_data.head()"
   ]
  },
  {
   "cell_type": "markdown",
   "metadata": {},
   "source": [
    "### Make sure all cities are properly capitalized"
   ]
  },
  {
   "cell_type": "code",
   "execution_count": 99,
   "metadata": {},
   "outputs": [],
   "source": [
    "sle_data['city'] = sle_data['city'].str.title()"
   ]
  },
  {
   "cell_type": "markdown",
   "metadata": {},
   "source": [
    "### Loop through the regions and remove '(California, USA)'"
   ]
  },
  {
   "cell_type": "code",
   "execution_count": 100,
   "metadata": {},
   "outputs": [],
   "source": [
    "# Create an empty array that will hold region values\n",
    "regions = []\n",
    "\n",
    "# Loop over the region column\n",
    "for value in sle_data['region']:\n",
    "    if value is None:\n",
    "        regions.append('None')\n",
    "    else:\n",
    "        # Split the name of the value in pieces by ' C' portion of of the current region name \n",
    "        chunks = value.split(' C')\n",
    "        # Keep the first chunk of the split and append\n",
    "        county = chunks[0]\n",
    "        regions.append(county)"
   ]
  },
  {
   "cell_type": "markdown",
   "metadata": {},
   "source": [
    "### Drop the current region column and re-add with the values from the regions list"
   ]
  },
  {
   "cell_type": "code",
   "execution_count": 101,
   "metadata": {},
   "outputs": [],
   "source": [
    "# Drop the column\n",
    "sle_data.drop('region', axis=1, inplace=True)\n",
    "\n",
    "# Add back in using the region array\n",
    "sle_data['region'] = regions"
   ]
  },
  {
   "cell_type": "markdown",
   "metadata": {},
   "source": [
    "### Change values in the title column"
   ]
  },
  {
   "cell_type": "code",
   "execution_count": 102,
   "metadata": {},
   "outputs": [],
   "source": [
    "# Create an empty array that will hold our title values\n",
    "titles = []\n",
    "\n",
    "# Loop over the title column\n",
    "for title in sle_data['title']:\n",
    "    if title == 'YTD Positive Sentinel Chicken':\n",
    "        titles.append('Sentinel Chicken')\n",
    "    elif title == 'YTD Positive Mosquito Pool':\n",
    "        titles.append('Mosquito Pool')"
   ]
  },
  {
   "cell_type": "markdown",
   "metadata": {},
   "source": [
    "### Drop the current title column and re-add with the values from the titles list"
   ]
  },
  {
   "cell_type": "code",
   "execution_count": 103,
   "metadata": {},
   "outputs": [],
   "source": [
    "# Drop the column\n",
    "sle_data.drop('title', axis=1, inplace=True)\n",
    "\n",
    "# Add back in using the region array\n",
    "sle_data['title'] = titles"
   ]
  },
  {
   "cell_type": "markdown",
   "metadata": {},
   "source": [
    "### Rearrange columns newly added columns match the previous arrangement"
   ]
  },
  {
   "cell_type": "code",
   "execution_count": 104,
   "metadata": {},
   "outputs": [],
   "source": [
    "# Add our column names to an array\n",
    "sle_cols = sle_data.columns.tolist()\n",
    "\n",
    "# Rearrange our columns\n",
    "sle_cols_rearranged = ['date','city', 'region', 'positive', 'title', 'geometry']\n",
    "\n",
    "# Assign new arrangement back to dataframe\n",
    "sle_data = sle_data[sle_cols_rearranged]"
   ]
  },
  {
   "cell_type": "code",
   "execution_count": 105,
   "metadata": {},
   "outputs": [
    {
     "data": {
      "text/html": [
       "<div>\n",
       "<style scoped>\n",
       "    .dataframe tbody tr th:only-of-type {\n",
       "        vertical-align: middle;\n",
       "    }\n",
       "\n",
       "    .dataframe tbody tr th {\n",
       "        vertical-align: top;\n",
       "    }\n",
       "\n",
       "    .dataframe thead th {\n",
       "        text-align: right;\n",
       "    }\n",
       "</style>\n",
       "<table border=\"1\" class=\"dataframe\">\n",
       "  <thead>\n",
       "    <tr style=\"text-align: right;\">\n",
       "      <th></th>\n",
       "      <th>date</th>\n",
       "      <th>city</th>\n",
       "      <th>region</th>\n",
       "      <th>positive</th>\n",
       "      <th>title</th>\n",
       "      <th>geometry</th>\n",
       "    </tr>\n",
       "  </thead>\n",
       "  <tbody>\n",
       "    <tr>\n",
       "      <th>0</th>\n",
       "      <td>09/14/2015</td>\n",
       "      <td>Mecca</td>\n",
       "      <td>Riverside</td>\n",
       "      <td>SLEV</td>\n",
       "      <td>Sentinel Chicken</td>\n",
       "      <td>POINT (-116.0302618249568 33.5276819108859)</td>\n",
       "    </tr>\n",
       "    <tr>\n",
       "      <th>1</th>\n",
       "      <td>09/10/2015</td>\n",
       "      <td>Mecca</td>\n",
       "      <td>Riverside</td>\n",
       "      <td>SLEV</td>\n",
       "      <td>Sentinel Chicken</td>\n",
       "      <td>POINT (-116.0749179098212 33.54414473222415)</td>\n",
       "    </tr>\n",
       "    <tr>\n",
       "      <th>2</th>\n",
       "      <td>09/28/2015</td>\n",
       "      <td>Mecca</td>\n",
       "      <td>Riverside</td>\n",
       "      <td>SLEV</td>\n",
       "      <td>Sentinel Chicken</td>\n",
       "      <td>POINT (-116.0788138626815 33.54292818890128)</td>\n",
       "    </tr>\n",
       "    <tr>\n",
       "      <th>3</th>\n",
       "      <td>09/23/2015</td>\n",
       "      <td>Mecca</td>\n",
       "      <td>Riverside</td>\n",
       "      <td>SLEV</td>\n",
       "      <td>Sentinel Chicken</td>\n",
       "      <td>POINT (-116.0293803087907 33.5347901760566)</td>\n",
       "    </tr>\n",
       "    <tr>\n",
       "      <th>4</th>\n",
       "      <td>09/24/2015</td>\n",
       "      <td>Mecca</td>\n",
       "      <td>Riverside</td>\n",
       "      <td>SLEV</td>\n",
       "      <td>Sentinel Chicken</td>\n",
       "      <td>POINT (-116.0755536165777 33.54329531806545)</td>\n",
       "    </tr>\n",
       "  </tbody>\n",
       "</table>\n",
       "</div>"
      ],
      "text/plain": [
       "         date   city     region positive             title  \\\n",
       "0  09/14/2015  Mecca  Riverside     SLEV  Sentinel Chicken   \n",
       "1  09/10/2015  Mecca  Riverside     SLEV  Sentinel Chicken   \n",
       "2  09/28/2015  Mecca  Riverside     SLEV  Sentinel Chicken   \n",
       "3  09/23/2015  Mecca  Riverside     SLEV  Sentinel Chicken   \n",
       "4  09/24/2015  Mecca  Riverside     SLEV  Sentinel Chicken   \n",
       "\n",
       "                                       geometry  \n",
       "0   POINT (-116.0302618249568 33.5276819108859)  \n",
       "1  POINT (-116.0749179098212 33.54414473222415)  \n",
       "2  POINT (-116.0788138626815 33.54292818890128)  \n",
       "3   POINT (-116.0293803087907 33.5347901760566)  \n",
       "4  POINT (-116.0755536165777 33.54329531806545)  "
      ]
     },
     "execution_count": 105,
     "metadata": {},
     "output_type": "execute_result"
    }
   ],
   "source": [
    "sle_data.head()"
   ]
  },
  {
   "cell_type": "markdown",
   "metadata": {},
   "source": [
    "### Rename columns"
   ]
  },
  {
   "cell_type": "code",
   "execution_count": 106,
   "metadata": {},
   "outputs": [],
   "source": [
    "sle_data.rename(columns={'region' : 'county', 'positive' : 'virus', 'title' : 'spectype'}, inplace=True)"
   ]
  },
  {
   "cell_type": "code",
   "execution_count": 107,
   "metadata": {},
   "outputs": [
    {
     "data": {
      "text/html": [
       "<div>\n",
       "<style scoped>\n",
       "    .dataframe tbody tr th:only-of-type {\n",
       "        vertical-align: middle;\n",
       "    }\n",
       "\n",
       "    .dataframe tbody tr th {\n",
       "        vertical-align: top;\n",
       "    }\n",
       "\n",
       "    .dataframe thead th {\n",
       "        text-align: right;\n",
       "    }\n",
       "</style>\n",
       "<table border=\"1\" class=\"dataframe\">\n",
       "  <thead>\n",
       "    <tr style=\"text-align: right;\">\n",
       "      <th></th>\n",
       "      <th>date</th>\n",
       "      <th>city</th>\n",
       "      <th>county</th>\n",
       "      <th>virus</th>\n",
       "      <th>spectype</th>\n",
       "      <th>geometry</th>\n",
       "    </tr>\n",
       "  </thead>\n",
       "  <tbody>\n",
       "    <tr>\n",
       "      <th>0</th>\n",
       "      <td>09/14/2015</td>\n",
       "      <td>Mecca</td>\n",
       "      <td>Riverside</td>\n",
       "      <td>SLEV</td>\n",
       "      <td>Sentinel Chicken</td>\n",
       "      <td>POINT (-116.0302618249568 33.5276819108859)</td>\n",
       "    </tr>\n",
       "    <tr>\n",
       "      <th>1</th>\n",
       "      <td>09/10/2015</td>\n",
       "      <td>Mecca</td>\n",
       "      <td>Riverside</td>\n",
       "      <td>SLEV</td>\n",
       "      <td>Sentinel Chicken</td>\n",
       "      <td>POINT (-116.0749179098212 33.54414473222415)</td>\n",
       "    </tr>\n",
       "    <tr>\n",
       "      <th>2</th>\n",
       "      <td>09/28/2015</td>\n",
       "      <td>Mecca</td>\n",
       "      <td>Riverside</td>\n",
       "      <td>SLEV</td>\n",
       "      <td>Sentinel Chicken</td>\n",
       "      <td>POINT (-116.0788138626815 33.54292818890128)</td>\n",
       "    </tr>\n",
       "    <tr>\n",
       "      <th>3</th>\n",
       "      <td>09/23/2015</td>\n",
       "      <td>Mecca</td>\n",
       "      <td>Riverside</td>\n",
       "      <td>SLEV</td>\n",
       "      <td>Sentinel Chicken</td>\n",
       "      <td>POINT (-116.0293803087907 33.5347901760566)</td>\n",
       "    </tr>\n",
       "    <tr>\n",
       "      <th>4</th>\n",
       "      <td>09/24/2015</td>\n",
       "      <td>Mecca</td>\n",
       "      <td>Riverside</td>\n",
       "      <td>SLEV</td>\n",
       "      <td>Sentinel Chicken</td>\n",
       "      <td>POINT (-116.0755536165777 33.54329531806545)</td>\n",
       "    </tr>\n",
       "  </tbody>\n",
       "</table>\n",
       "</div>"
      ],
      "text/plain": [
       "         date   city     county virus          spectype  \\\n",
       "0  09/14/2015  Mecca  Riverside  SLEV  Sentinel Chicken   \n",
       "1  09/10/2015  Mecca  Riverside  SLEV  Sentinel Chicken   \n",
       "2  09/28/2015  Mecca  Riverside  SLEV  Sentinel Chicken   \n",
       "3  09/23/2015  Mecca  Riverside  SLEV  Sentinel Chicken   \n",
       "4  09/24/2015  Mecca  Riverside  SLEV  Sentinel Chicken   \n",
       "\n",
       "                                       geometry  \n",
       "0   POINT (-116.0302618249568 33.5276819108859)  \n",
       "1  POINT (-116.0749179098212 33.54414473222415)  \n",
       "2  POINT (-116.0788138626815 33.54292818890128)  \n",
       "3   POINT (-116.0293803087907 33.5347901760566)  \n",
       "4  POINT (-116.0755536165777 33.54329531806545)  "
      ]
     },
     "execution_count": 107,
     "metadata": {},
     "output_type": "execute_result"
    }
   ],
   "source": [
    "sle_data.head()"
   ]
  },
  {
   "cell_type": "markdown",
   "metadata": {},
   "source": [
    "### There are quite a few null values for city so wil break things out into two separate dataframes and recombine once those get values"
   ]
  },
  {
   "cell_type": "code",
   "execution_count": 108,
   "metadata": {},
   "outputs": [],
   "source": [
    "sle_fully_populated = sle_data.loc[sle_data['city'].notnull()]\n",
    "sle_null_city = sle_data.loc[sle_data['city'].isnull()]"
   ]
  },
  {
   "cell_type": "markdown",
   "metadata": {},
   "source": [
    "### Need lat/lon coordinates in our *sle_null_city* dataframe to be able to reverse geocode, so create these columns from the geometry column"
   ]
  },
  {
   "cell_type": "code",
   "execution_count": 109,
   "metadata": {},
   "outputs": [
    {
     "name": "stderr",
     "output_type": "stream",
     "text": [
      "C:\\Users\\MBacinsk\\AppData\\Local\\Continuum\\anaconda3\\envs\\mappingEnv\\lib\\site-packages\\ipykernel_launcher.py:1: SettingWithCopyWarning: \n",
      "A value is trying to be set on a copy of a slice from a DataFrame.\n",
      "Try using .loc[row_indexer,col_indexer] = value instead\n",
      "\n",
      "See the caveats in the documentation: http://pandas.pydata.org/pandas-docs/stable/indexing.html#indexing-view-versus-copy\n",
      "  \"\"\"Entry point for launching an IPython kernel.\n",
      "C:\\Users\\MBacinsk\\AppData\\Local\\Continuum\\anaconda3\\envs\\mappingEnv\\lib\\site-packages\\ipykernel_launcher.py:2: SettingWithCopyWarning: \n",
      "A value is trying to be set on a copy of a slice from a DataFrame.\n",
      "Try using .loc[row_indexer,col_indexer] = value instead\n",
      "\n",
      "See the caveats in the documentation: http://pandas.pydata.org/pandas-docs/stable/indexing.html#indexing-view-versus-copy\n",
      "  \n"
     ]
    }
   ],
   "source": [
    "sle_null_city['lon'] = sle_null_city['geometry'].x\n",
    "sle_null_city['lat'] = sle_null_city['geometry'].y"
   ]
  },
  {
   "cell_type": "markdown",
   "metadata": {},
   "source": [
    "### Use `geopy` to reverse geocode based on our lat/lon coordinates.  The MapBox provider will be used, but there a quite a few to choose from"
   ]
  },
  {
   "cell_type": "code",
   "execution_count": 110,
   "metadata": {},
   "outputs": [
    {
     "name": "stderr",
     "output_type": "stream",
     "text": [
      "C:\\Users\\MBacinsk\\AppData\\Local\\Continuum\\anaconda3\\envs\\mappingEnv\\lib\\site-packages\\ipykernel_launcher.py:6: SettingWithCopyWarning: \n",
      "A value is trying to be set on a copy of a slice from a DataFrame.\n",
      "Try using .loc[row_indexer,col_indexer] = value instead\n",
      "\n",
      "See the caveats in the documentation: http://pandas.pydata.org/pandas-docs/stable/indexing.html#indexing-view-versus-copy\n",
      "  \n"
     ]
    }
   ],
   "source": [
    "from geopy.geocoders import MapBox\n",
    "geolocator = MapBox('pk.eyJ1IjoiYmF6aW5pNjI3IiwiYSI6ImVmZTNiM2VlZTlhMjk0NzE3MjU5YmEzZWVkYjUwNjAzIn0.idDK-FJKJn3Q7StDtBOX-g',user_agent=\"sle-geocode\")\n",
    "\n",
    "# Create an address column to populate the results of the reverse gecoding with\n",
    "sle_null_city['address'] = sle_null_city.apply(\n",
    "    lambda row: geolocator.reverse((row['lat'], row['lon'])), axis=1)"
   ]
  },
  {
   "cell_type": "code",
   "execution_count": 111,
   "metadata": {},
   "outputs": [
    {
     "data": {
      "text/html": [
       "<div>\n",
       "<style scoped>\n",
       "    .dataframe tbody tr th:only-of-type {\n",
       "        vertical-align: middle;\n",
       "    }\n",
       "\n",
       "    .dataframe tbody tr th {\n",
       "        vertical-align: top;\n",
       "    }\n",
       "\n",
       "    .dataframe thead th {\n",
       "        text-align: right;\n",
       "    }\n",
       "</style>\n",
       "<table border=\"1\" class=\"dataframe\">\n",
       "  <thead>\n",
       "    <tr style=\"text-align: right;\">\n",
       "      <th></th>\n",
       "      <th>date</th>\n",
       "      <th>city</th>\n",
       "      <th>county</th>\n",
       "      <th>virus</th>\n",
       "      <th>spectype</th>\n",
       "      <th>geometry</th>\n",
       "      <th>lon</th>\n",
       "      <th>lat</th>\n",
       "      <th>address</th>\n",
       "    </tr>\n",
       "  </thead>\n",
       "  <tbody>\n",
       "    <tr>\n",
       "      <th>7</th>\n",
       "      <td>05/16/2016</td>\n",
       "      <td>None</td>\n",
       "      <td>Yuma</td>\n",
       "      <td>SLEV</td>\n",
       "      <td>Sentinel Chicken</td>\n",
       "      <td>POINT (-114.6628399620399 32.62450630721889)</td>\n",
       "      <td>-114.662840</td>\n",
       "      <td>32.624506</td>\n",
       "      <td>(3703 West County 14th Street, Somerton, Arizo...</td>\n",
       "    </tr>\n",
       "    <tr>\n",
       "      <th>8</th>\n",
       "      <td>05/27/2016</td>\n",
       "      <td>None</td>\n",
       "      <td>Yuma</td>\n",
       "      <td>SLEV</td>\n",
       "      <td>Sentinel Chicken</td>\n",
       "      <td>POINT (-114.6673291684298 32.62595933836609)</td>\n",
       "      <td>-114.667329</td>\n",
       "      <td>32.625959</td>\n",
       "      <td>(South Avenue C, Yuma, Arizona 85365, United S...</td>\n",
       "    </tr>\n",
       "    <tr>\n",
       "      <th>13</th>\n",
       "      <td>07/11/2016</td>\n",
       "      <td>None</td>\n",
       "      <td>Yuma</td>\n",
       "      <td>SLEV</td>\n",
       "      <td>Sentinel Chicken</td>\n",
       "      <td>POINT (-114.6637011956284 32.62001534603975)</td>\n",
       "      <td>-114.663701</td>\n",
       "      <td>32.620015</td>\n",
       "      <td>(3762 West Sun Street, Yuma, Arizona 85365, Un...</td>\n",
       "    </tr>\n",
       "    <tr>\n",
       "      <th>18</th>\n",
       "      <td>07/25/2016</td>\n",
       "      <td>None</td>\n",
       "      <td>Yuma</td>\n",
       "      <td>SLEV</td>\n",
       "      <td>Sentinel Chicken</td>\n",
       "      <td>POINT (-114.6681104142361 32.62598977044367)</td>\n",
       "      <td>-114.668110</td>\n",
       "      <td>32.625990</td>\n",
       "      <td>(4115 West County 14th Street, Yuma, Arizona 8...</td>\n",
       "    </tr>\n",
       "    <tr>\n",
       "      <th>97</th>\n",
       "      <td>06/28/2016</td>\n",
       "      <td>None</td>\n",
       "      <td>Riverside</td>\n",
       "      <td>SLEV</td>\n",
       "      <td>Mosquito Pool</td>\n",
       "      <td>POINT (-116.0737912126328 33.52318183677199)</td>\n",
       "      <td>-116.073791</td>\n",
       "      <td>33.523182</td>\n",
       "      <td>(72120 Lincoln Ave, Mecca, California 92254, U...</td>\n",
       "    </tr>\n",
       "  </tbody>\n",
       "</table>\n",
       "</div>"
      ],
      "text/plain": [
       "          date  city     county virus          spectype  \\\n",
       "7   05/16/2016  None       Yuma  SLEV  Sentinel Chicken   \n",
       "8   05/27/2016  None       Yuma  SLEV  Sentinel Chicken   \n",
       "13  07/11/2016  None       Yuma  SLEV  Sentinel Chicken   \n",
       "18  07/25/2016  None       Yuma  SLEV  Sentinel Chicken   \n",
       "97  06/28/2016  None  Riverside  SLEV     Mosquito Pool   \n",
       "\n",
       "                                        geometry         lon        lat  \\\n",
       "7   POINT (-114.6628399620399 32.62450630721889) -114.662840  32.624506   \n",
       "8   POINT (-114.6673291684298 32.62595933836609) -114.667329  32.625959   \n",
       "13  POINT (-114.6637011956284 32.62001534603975) -114.663701  32.620015   \n",
       "18  POINT (-114.6681104142361 32.62598977044367) -114.668110  32.625990   \n",
       "97  POINT (-116.0737912126328 33.52318183677199) -116.073791  33.523182   \n",
       "\n",
       "                                              address  \n",
       "7   (3703 West County 14th Street, Somerton, Arizo...  \n",
       "8   (South Avenue C, Yuma, Arizona 85365, United S...  \n",
       "13  (3762 West Sun Street, Yuma, Arizona 85365, Un...  \n",
       "18  (4115 West County 14th Street, Yuma, Arizona 8...  \n",
       "97  (72120 Lincoln Ave, Mecca, California 92254, U...  "
      ]
     },
     "execution_count": 111,
     "metadata": {},
     "output_type": "execute_result"
    }
   ],
   "source": [
    "sle_null_city.head()"
   ]
  },
  {
   "cell_type": "markdown",
   "metadata": {},
   "source": [
    "### Looks like our first four entries are actually in Arizona so we can drop those based on the county values.  No other rows have a county value of Yuma and are in CA"
   ]
  },
  {
   "cell_type": "code",
   "execution_count": 112,
   "metadata": {},
   "outputs": [],
   "source": [
    "sle_null_city_no_az = sle_null_city.loc[sle_null_city['county'] != 'Yuma']"
   ]
  },
  {
   "cell_type": "markdown",
   "metadata": {},
   "source": [
    "### Now we can loop through the address column to pull out the city from the returned address.\n",
    "### Shapely objects will be converted to strings, otherwise they can't be iterated over to pull out the city name"
   ]
  },
  {
   "cell_type": "code",
   "execution_count": 113,
   "metadata": {},
   "outputs": [
    {
     "name": "stdout",
     "output_type": "stream",
     "text": [
      "['Mecca', 'Mecca', 'Fresno', 'Lemoore', 'Kerman', 'Fresno', 'Firebaugh', 'Firebaugh', 'Mendota', 'Mendota', 'Firebaugh', 'Fresno', 'Coalinga', 'Firebaugh', 'Firebaugh', 'Firebaugh', 'Firebaugh', 'Firebaugh', 'Firebaugh', 'Firebaugh', 'Firebaugh', 'Firebaugh', 'Fresno', 'Visalia', 'Fresno', 'Fresno', 'Fresno', 'Visalia', 'Fresno', 'Fresno', 'Visalia', 'Visalia', 'Lemoore', 'Lemoore', 'Lemoore', 'Lemoore', 'Lemoore', 'Madera', 'Fresno']\n"
     ]
    }
   ],
   "source": [
    "# Empty list to hold extracted city\n",
    "cities = []\n",
    "\n",
    "# Address column to a list \n",
    "addies = sle_null_city_no_az['address'].tolist()\n",
    "\n",
    "# Loop through the addresses, pull out the city and append to cities list \n",
    "for addy in addies:\n",
    "    \n",
    "    # Convert Shapely object to a string\n",
    "    addy_as_string = str(addy)\n",
    "   \n",
    "    # Regex looking for something like City,California anywhere in our address string\n",
    "    city_state = re.search(\"([A-Z][a-z]+)+,\\s[C][a]+\", addy_as_string)\n",
    "        \n",
    "    # If we have a match append the city to our cities list \n",
    "    if city_state:\n",
    "        cities.append(city_state.group(1))\n",
    "\n",
    "print(cities)"
   ]
  },
  {
   "cell_type": "markdown",
   "metadata": {},
   "source": [
    "### The null *city* column in our *sle_null_city_no_az* dataframe can now be replaced with our cities list"
   ]
  },
  {
   "cell_type": "code",
   "execution_count": 114,
   "metadata": {},
   "outputs": [
    {
     "name": "stderr",
     "output_type": "stream",
     "text": [
      "C:\\Users\\MBacinsk\\AppData\\Local\\Continuum\\anaconda3\\envs\\mappingEnv\\lib\\site-packages\\pandas\\core\\frame.py:3930: SettingWithCopyWarning: \n",
      "A value is trying to be set on a copy of a slice from a DataFrame\n",
      "\n",
      "See the caveats in the documentation: http://pandas.pydata.org/pandas-docs/stable/indexing.html#indexing-view-versus-copy\n",
      "  errors=errors)\n"
     ]
    }
   ],
   "source": [
    "# Drop our original city column\n",
    "sle_null_city_no_az.drop(columns=['city'], axis=1, inplace=True)"
   ]
  },
  {
   "cell_type": "code",
   "execution_count": 115,
   "metadata": {},
   "outputs": [
    {
     "name": "stderr",
     "output_type": "stream",
     "text": [
      "C:\\Users\\MBacinsk\\AppData\\Local\\Continuum\\anaconda3\\envs\\mappingEnv\\lib\\site-packages\\ipykernel_launcher.py:2: SettingWithCopyWarning: \n",
      "A value is trying to be set on a copy of a slice from a DataFrame.\n",
      "Try using .loc[row_indexer,col_indexer] = value instead\n",
      "\n",
      "See the caveats in the documentation: http://pandas.pydata.org/pandas-docs/stable/indexing.html#indexing-view-versus-copy\n",
      "  \n"
     ]
    }
   ],
   "source": [
    "# Add the column back in, populated with the cities list \n",
    "sle_null_city_no_az['city'] = cities"
   ]
  },
  {
   "cell_type": "markdown",
   "metadata": {},
   "source": [
    "### We can drop our lat, lon, and address columns now"
   ]
  },
  {
   "cell_type": "code",
   "execution_count": 116,
   "metadata": {},
   "outputs": [],
   "source": [
    "sle_null_city_no_az.drop(columns=['lon', 'lat', 'address'], axis=1, inplace=True)"
   ]
  },
  {
   "cell_type": "code",
   "execution_count": 117,
   "metadata": {},
   "outputs": [
    {
     "data": {
      "text/html": [
       "<div>\n",
       "<style scoped>\n",
       "    .dataframe tbody tr th:only-of-type {\n",
       "        vertical-align: middle;\n",
       "    }\n",
       "\n",
       "    .dataframe tbody tr th {\n",
       "        vertical-align: top;\n",
       "    }\n",
       "\n",
       "    .dataframe thead th {\n",
       "        text-align: right;\n",
       "    }\n",
       "</style>\n",
       "<table border=\"1\" class=\"dataframe\">\n",
       "  <thead>\n",
       "    <tr style=\"text-align: right;\">\n",
       "      <th></th>\n",
       "      <th>date</th>\n",
       "      <th>county</th>\n",
       "      <th>virus</th>\n",
       "      <th>spectype</th>\n",
       "      <th>geometry</th>\n",
       "      <th>city</th>\n",
       "    </tr>\n",
       "  </thead>\n",
       "  <tbody>\n",
       "    <tr>\n",
       "      <th>97</th>\n",
       "      <td>06/28/2016</td>\n",
       "      <td>Riverside</td>\n",
       "      <td>SLEV</td>\n",
       "      <td>Mosquito Pool</td>\n",
       "      <td>POINT (-116.0737912126328 33.52318183677199)</td>\n",
       "      <td>Mecca</td>\n",
       "    </tr>\n",
       "    <tr>\n",
       "      <th>108</th>\n",
       "      <td>07/12/2016</td>\n",
       "      <td>Riverside</td>\n",
       "      <td>SLEV</td>\n",
       "      <td>Mosquito Pool</td>\n",
       "      <td>POINT (-116.0702315447287 33.52206039207996)</td>\n",
       "      <td>Mecca</td>\n",
       "    </tr>\n",
       "    <tr>\n",
       "      <th>257</th>\n",
       "      <td>06/09/2017</td>\n",
       "      <td>Fresno</td>\n",
       "      <td>SLEV</td>\n",
       "      <td>Mosquito Pool</td>\n",
       "      <td>POINT (-119.8905351402999 36.84060898276345)</td>\n",
       "      <td>Fresno</td>\n",
       "    </tr>\n",
       "    <tr>\n",
       "      <th>269</th>\n",
       "      <td>07/18/2017</td>\n",
       "      <td>Kings</td>\n",
       "      <td>SLEV</td>\n",
       "      <td>Mosquito Pool</td>\n",
       "      <td>POINT (-119.8417328833465 36.38332703027084)</td>\n",
       "      <td>Lemoore</td>\n",
       "    </tr>\n",
       "    <tr>\n",
       "      <th>281</th>\n",
       "      <td>08/03/2017</td>\n",
       "      <td>Fresno</td>\n",
       "      <td>SLEV</td>\n",
       "      <td>Mosquito Pool</td>\n",
       "      <td>POINT (-120.3300749617084 36.71340983546221)</td>\n",
       "      <td>Kerman</td>\n",
       "    </tr>\n",
       "  </tbody>\n",
       "</table>\n",
       "</div>"
      ],
      "text/plain": [
       "           date     county virus       spectype  \\\n",
       "97   06/28/2016  Riverside  SLEV  Mosquito Pool   \n",
       "108  07/12/2016  Riverside  SLEV  Mosquito Pool   \n",
       "257  06/09/2017     Fresno  SLEV  Mosquito Pool   \n",
       "269  07/18/2017      Kings  SLEV  Mosquito Pool   \n",
       "281  08/03/2017     Fresno  SLEV  Mosquito Pool   \n",
       "\n",
       "                                         geometry     city  \n",
       "97   POINT (-116.0737912126328 33.52318183677199)    Mecca  \n",
       "108  POINT (-116.0702315447287 33.52206039207996)    Mecca  \n",
       "257  POINT (-119.8905351402999 36.84060898276345)   Fresno  \n",
       "269  POINT (-119.8417328833465 36.38332703027084)  Lemoore  \n",
       "281  POINT (-120.3300749617084 36.71340983546221)   Kerman  "
      ]
     },
     "execution_count": 117,
     "metadata": {},
     "output_type": "execute_result"
    }
   ],
   "source": [
    "sle_null_city_no_az.head()"
   ]
  },
  {
   "cell_type": "markdown",
   "metadata": {},
   "source": [
    "### Now we can combine our dateframes.  We can just use concat since they have the same columns"
   ]
  },
  {
   "cell_type": "code",
   "execution_count": 118,
   "metadata": {},
   "outputs": [],
   "source": [
    "sle_merged = pd.concat([sle_fully_populated,sle_null_city_no_az], sort=True)"
   ]
  },
  {
   "cell_type": "code",
   "execution_count": 119,
   "metadata": {},
   "outputs": [
    {
     "data": {
      "text/html": [
       "<div>\n",
       "<style scoped>\n",
       "    .dataframe tbody tr th:only-of-type {\n",
       "        vertical-align: middle;\n",
       "    }\n",
       "\n",
       "    .dataframe tbody tr th {\n",
       "        vertical-align: top;\n",
       "    }\n",
       "\n",
       "    .dataframe thead th {\n",
       "        text-align: right;\n",
       "    }\n",
       "</style>\n",
       "<table border=\"1\" class=\"dataframe\">\n",
       "  <thead>\n",
       "    <tr style=\"text-align: right;\">\n",
       "      <th></th>\n",
       "      <th>city</th>\n",
       "      <th>county</th>\n",
       "      <th>date</th>\n",
       "      <th>geometry</th>\n",
       "      <th>spectype</th>\n",
       "      <th>virus</th>\n",
       "    </tr>\n",
       "  </thead>\n",
       "  <tbody>\n",
       "    <tr>\n",
       "      <th>0</th>\n",
       "      <td>Mecca</td>\n",
       "      <td>Riverside</td>\n",
       "      <td>09/14/2015</td>\n",
       "      <td>POINT (-116.0302618249568 33.5276819108859)</td>\n",
       "      <td>Sentinel Chicken</td>\n",
       "      <td>SLEV</td>\n",
       "    </tr>\n",
       "    <tr>\n",
       "      <th>1</th>\n",
       "      <td>Mecca</td>\n",
       "      <td>Riverside</td>\n",
       "      <td>09/10/2015</td>\n",
       "      <td>POINT (-116.0749179098212 33.54414473222415)</td>\n",
       "      <td>Sentinel Chicken</td>\n",
       "      <td>SLEV</td>\n",
       "    </tr>\n",
       "    <tr>\n",
       "      <th>2</th>\n",
       "      <td>Mecca</td>\n",
       "      <td>Riverside</td>\n",
       "      <td>09/28/2015</td>\n",
       "      <td>POINT (-116.0788138626815 33.54292818890128)</td>\n",
       "      <td>Sentinel Chicken</td>\n",
       "      <td>SLEV</td>\n",
       "    </tr>\n",
       "    <tr>\n",
       "      <th>3</th>\n",
       "      <td>Mecca</td>\n",
       "      <td>Riverside</td>\n",
       "      <td>09/23/2015</td>\n",
       "      <td>POINT (-116.0293803087907 33.5347901760566)</td>\n",
       "      <td>Sentinel Chicken</td>\n",
       "      <td>SLEV</td>\n",
       "    </tr>\n",
       "    <tr>\n",
       "      <th>4</th>\n",
       "      <td>Mecca</td>\n",
       "      <td>Riverside</td>\n",
       "      <td>09/24/2015</td>\n",
       "      <td>POINT (-116.0755536165777 33.54329531806545)</td>\n",
       "      <td>Sentinel Chicken</td>\n",
       "      <td>SLEV</td>\n",
       "    </tr>\n",
       "  </tbody>\n",
       "</table>\n",
       "</div>"
      ],
      "text/plain": [
       "    city     county        date                                      geometry  \\\n",
       "0  Mecca  Riverside  09/14/2015   POINT (-116.0302618249568 33.5276819108859)   \n",
       "1  Mecca  Riverside  09/10/2015  POINT (-116.0749179098212 33.54414473222415)   \n",
       "2  Mecca  Riverside  09/28/2015  POINT (-116.0788138626815 33.54292818890128)   \n",
       "3  Mecca  Riverside  09/23/2015   POINT (-116.0293803087907 33.5347901760566)   \n",
       "4  Mecca  Riverside  09/24/2015  POINT (-116.0755536165777 33.54329531806545)   \n",
       "\n",
       "           spectype virus  \n",
       "0  Sentinel Chicken  SLEV  \n",
       "1  Sentinel Chicken  SLEV  \n",
       "2  Sentinel Chicken  SLEV  \n",
       "3  Sentinel Chicken  SLEV  \n",
       "4  Sentinel Chicken  SLEV  "
      ]
     },
     "execution_count": 119,
     "metadata": {},
     "output_type": "execute_result"
    }
   ],
   "source": [
    "sle_merged.head()"
   ]
  },
  {
   "cell_type": "markdown",
   "metadata": {},
   "source": [
    "### Output to geojson"
   ]
  },
  {
   "cell_type": "code",
   "execution_count": 120,
   "metadata": {},
   "outputs": [
    {
     "name": "stderr",
     "output_type": "stream",
     "text": [
      "C:\\Users\\MBacinsk\\AppData\\Local\\Continuum\\anaconda3\\envs\\mappingEnv\\lib\\site-packages\\geopandas\\io\\file.py:108: FionaDeprecationWarning: Use fiona.Env() instead.\n",
      "  with fiona.drivers():\n"
     ]
    }
   ],
   "source": [
    "sle_merged.to_file('./data/sle/output/sle2015_2018_cleaned.geojson', driver=\"GeoJSON\")"
   ]
  },
  {
   "cell_type": "markdown",
   "metadata": {},
   "source": [
    "### Checked the output with [geojson.io](geojson.io) and noticed that a few points are in Arizona, so those will have to be dropped"
   ]
  },
  {
   "cell_type": "code",
   "execution_count": 121,
   "metadata": {},
   "outputs": [
    {
     "data": {
      "text/html": [
       "<div>\n",
       "<style scoped>\n",
       "    .dataframe tbody tr th:only-of-type {\n",
       "        vertical-align: middle;\n",
       "    }\n",
       "\n",
       "    .dataframe tbody tr th {\n",
       "        vertical-align: top;\n",
       "    }\n",
       "\n",
       "    .dataframe thead th {\n",
       "        text-align: right;\n",
       "    }\n",
       "</style>\n",
       "<table border=\"1\" class=\"dataframe\">\n",
       "  <thead>\n",
       "    <tr style=\"text-align: right;\">\n",
       "      <th></th>\n",
       "      <th>city</th>\n",
       "      <th>county</th>\n",
       "      <th>date</th>\n",
       "      <th>geometry</th>\n",
       "      <th>spectype</th>\n",
       "      <th>virus</th>\n",
       "    </tr>\n",
       "  </thead>\n",
       "  <tbody>\n",
       "    <tr>\n",
       "      <th>9</th>\n",
       "      <td>Yuma</td>\n",
       "      <td>Yuma</td>\n",
       "      <td>06/28/2016</td>\n",
       "      <td>POINT (-114.6692054769902 32.71421646906434)</td>\n",
       "      <td>Sentinel Chicken</td>\n",
       "      <td>SLEV</td>\n",
       "    </tr>\n",
       "    <tr>\n",
       "      <th>10</th>\n",
       "      <td>Gila Valley</td>\n",
       "      <td>Yuma</td>\n",
       "      <td>06/28/2016</td>\n",
       "      <td>POINT (-114.5544002242594 32.7015640995177)</td>\n",
       "      <td>Sentinel Chicken</td>\n",
       "      <td>SLEV</td>\n",
       "    </tr>\n",
       "    <tr>\n",
       "      <th>12</th>\n",
       "      <td>Yuma</td>\n",
       "      <td>Yuma</td>\n",
       "      <td>07/11/2016</td>\n",
       "      <td>POINT (-114.6733321336425 32.715117333355)</td>\n",
       "      <td>Sentinel Chicken</td>\n",
       "      <td>SLEV</td>\n",
       "    </tr>\n",
       "    <tr>\n",
       "      <th>14</th>\n",
       "      <td>Gila Valley</td>\n",
       "      <td>Yuma</td>\n",
       "      <td>07/11/2016</td>\n",
       "      <td>POINT (-114.5500644238585 32.70499937955419)</td>\n",
       "      <td>Sentinel Chicken</td>\n",
       "      <td>SLEV</td>\n",
       "    </tr>\n",
       "    <tr>\n",
       "      <th>17</th>\n",
       "      <td>Yuma</td>\n",
       "      <td>Yuma</td>\n",
       "      <td>07/25/2016</td>\n",
       "      <td>POINT (-114.6702023915953 32.71511557577822)</td>\n",
       "      <td>Sentinel Chicken</td>\n",
       "      <td>SLEV</td>\n",
       "    </tr>\n",
       "    <tr>\n",
       "      <th>19</th>\n",
       "      <td>Gila Valley</td>\n",
       "      <td>Yuma</td>\n",
       "      <td>07/25/2016</td>\n",
       "      <td>POINT (-114.5529591370368 32.70235551859694)</td>\n",
       "      <td>Sentinel Chicken</td>\n",
       "      <td>SLEV</td>\n",
       "    </tr>\n",
       "    <tr>\n",
       "      <th>20</th>\n",
       "      <td>Yuma</td>\n",
       "      <td>Yuma</td>\n",
       "      <td>08/06/2016</td>\n",
       "      <td>POINT (-114.6688277204835 32.7188197513739)</td>\n",
       "      <td>Sentinel Chicken</td>\n",
       "      <td>SLEV</td>\n",
       "    </tr>\n",
       "    <tr>\n",
       "      <th>21</th>\n",
       "      <td>Gila Valley</td>\n",
       "      <td>Yuma</td>\n",
       "      <td>08/06/2016</td>\n",
       "      <td>POINT (-114.5509169943425 32.70153210108912)</td>\n",
       "      <td>Sentinel Chicken</td>\n",
       "      <td>SLEV</td>\n",
       "    </tr>\n",
       "    <tr>\n",
       "      <th>22</th>\n",
       "      <td>Yuma</td>\n",
       "      <td>Yuma</td>\n",
       "      <td>08/22/2016</td>\n",
       "      <td>POINT (-114.6677785973156 32.71252704576695)</td>\n",
       "      <td>Sentinel Chicken</td>\n",
       "      <td>SLEV</td>\n",
       "    </tr>\n",
       "    <tr>\n",
       "      <th>23</th>\n",
       "      <td>Gila Valley</td>\n",
       "      <td>Yuma</td>\n",
       "      <td>08/22/2016</td>\n",
       "      <td>POINT (-114.5488683215499 32.70624469069669)</td>\n",
       "      <td>Sentinel Chicken</td>\n",
       "      <td>SLEV</td>\n",
       "    </tr>\n",
       "    <tr>\n",
       "      <th>25</th>\n",
       "      <td>Yuma</td>\n",
       "      <td>Yuma</td>\n",
       "      <td>09/06/2016</td>\n",
       "      <td>POINT (-114.6696194906091 32.71239508804344)</td>\n",
       "      <td>Sentinel Chicken</td>\n",
       "      <td>SLEV</td>\n",
       "    </tr>\n",
       "    <tr>\n",
       "      <th>26</th>\n",
       "      <td>Gila Valley</td>\n",
       "      <td>Yuma</td>\n",
       "      <td>09/06/2016</td>\n",
       "      <td>POINT (-114.5473451788178 32.70644429019259)</td>\n",
       "      <td>Sentinel Chicken</td>\n",
       "      <td>SLEV</td>\n",
       "    </tr>\n",
       "  </tbody>\n",
       "</table>\n",
       "</div>"
      ],
      "text/plain": [
       "           city county        date  \\\n",
       "9          Yuma   Yuma  06/28/2016   \n",
       "10  Gila Valley   Yuma  06/28/2016   \n",
       "12         Yuma   Yuma  07/11/2016   \n",
       "14  Gila Valley   Yuma  07/11/2016   \n",
       "17         Yuma   Yuma  07/25/2016   \n",
       "19  Gila Valley   Yuma  07/25/2016   \n",
       "20         Yuma   Yuma  08/06/2016   \n",
       "21  Gila Valley   Yuma  08/06/2016   \n",
       "22         Yuma   Yuma  08/22/2016   \n",
       "23  Gila Valley   Yuma  08/22/2016   \n",
       "25         Yuma   Yuma  09/06/2016   \n",
       "26  Gila Valley   Yuma  09/06/2016   \n",
       "\n",
       "                                        geometry          spectype virus  \n",
       "9   POINT (-114.6692054769902 32.71421646906434)  Sentinel Chicken  SLEV  \n",
       "10   POINT (-114.5544002242594 32.7015640995177)  Sentinel Chicken  SLEV  \n",
       "12    POINT (-114.6733321336425 32.715117333355)  Sentinel Chicken  SLEV  \n",
       "14  POINT (-114.5500644238585 32.70499937955419)  Sentinel Chicken  SLEV  \n",
       "17  POINT (-114.6702023915953 32.71511557577822)  Sentinel Chicken  SLEV  \n",
       "19  POINT (-114.5529591370368 32.70235551859694)  Sentinel Chicken  SLEV  \n",
       "20   POINT (-114.6688277204835 32.7188197513739)  Sentinel Chicken  SLEV  \n",
       "21  POINT (-114.5509169943425 32.70153210108912)  Sentinel Chicken  SLEV  \n",
       "22  POINT (-114.6677785973156 32.71252704576695)  Sentinel Chicken  SLEV  \n",
       "23  POINT (-114.5488683215499 32.70624469069669)  Sentinel Chicken  SLEV  \n",
       "25  POINT (-114.6696194906091 32.71239508804344)  Sentinel Chicken  SLEV  \n",
       "26  POINT (-114.5473451788178 32.70644429019259)  Sentinel Chicken  SLEV  "
      ]
     },
     "execution_count": 121,
     "metadata": {},
     "output_type": "execute_result"
    }
   ],
   "source": [
    "# All the points are in Yuma county\n",
    "sle_merged.loc[sle_merged['county'] == 'Yuma']"
   ]
  },
  {
   "cell_type": "markdown",
   "metadata": {},
   "source": [
    "### Drop the rows and make sure only 12 rows are removed"
   ]
  },
  {
   "cell_type": "code",
   "execution_count": 122,
   "metadata": {},
   "outputs": [
    {
     "name": "stdout",
     "output_type": "stream",
     "text": [
      "<class 'geopandas.geodataframe.GeoDataFrame'>\n",
      "Int64Index: 819 entries, 0 to 778\n",
      "Data columns (total 6 columns):\n",
      "city        819 non-null object\n",
      "county      819 non-null object\n",
      "date        819 non-null object\n",
      "geometry    819 non-null object\n",
      "spectype    819 non-null object\n",
      "virus       819 non-null object\n",
      "dtypes: object(6)\n",
      "memory usage: 44.8+ KB\n"
     ]
    }
   ],
   "source": [
    "sle_merged.info()"
   ]
  },
  {
   "cell_type": "code",
   "execution_count": 123,
   "metadata": {},
   "outputs": [],
   "source": [
    "sle_merged_no_az = sle_merged.loc[sle_merged['county'] != 'Yuma']"
   ]
  },
  {
   "cell_type": "code",
   "execution_count": 124,
   "metadata": {},
   "outputs": [
    {
     "name": "stdout",
     "output_type": "stream",
     "text": [
      "<class 'geopandas.geodataframe.GeoDataFrame'>\n",
      "Int64Index: 807 entries, 0 to 778\n",
      "Data columns (total 6 columns):\n",
      "city        807 non-null object\n",
      "county      807 non-null object\n",
      "date        807 non-null object\n",
      "geometry    807 non-null object\n",
      "spectype    807 non-null object\n",
      "virus       807 non-null object\n",
      "dtypes: object(6)\n",
      "memory usage: 44.1+ KB\n"
     ]
    }
   ],
   "source": [
    "sle_merged_no_az.info()"
   ]
  },
  {
   "cell_type": "markdown",
   "metadata": {},
   "source": [
    "### Convert date column to a pandas date type which will then be converted to a unix timestamp"
   ]
  },
  {
   "cell_type": "code",
   "execution_count": 125,
   "metadata": {},
   "outputs": [
    {
     "name": "stderr",
     "output_type": "stream",
     "text": [
      "C:\\Users\\MBacinsk\\AppData\\Local\\Continuum\\anaconda3\\envs\\mappingEnv\\lib\\site-packages\\ipykernel_launcher.py:1: SettingWithCopyWarning: \n",
      "A value is trying to be set on a copy of a slice from a DataFrame.\n",
      "Try using .loc[row_indexer,col_indexer] = value instead\n",
      "\n",
      "See the caveats in the documentation: http://pandas.pydata.org/pandas-docs/stable/indexing.html#indexing-view-versus-copy\n",
      "  \"\"\"Entry point for launching an IPython kernel.\n"
     ]
    }
   ],
   "source": [
    "sle_merged_no_az['date'] = pd.to_datetime(sle_merged_no_az['date'])"
   ]
  },
  {
   "cell_type": "code",
   "execution_count": 126,
   "metadata": {},
   "outputs": [
    {
     "name": "stdout",
     "output_type": "stream",
     "text": [
      "<class 'geopandas.geodataframe.GeoDataFrame'>\n",
      "Int64Index: 807 entries, 0 to 778\n",
      "Data columns (total 6 columns):\n",
      "city        807 non-null object\n",
      "county      807 non-null object\n",
      "date        807 non-null datetime64[ns]\n",
      "geometry    807 non-null object\n",
      "spectype    807 non-null object\n",
      "virus       807 non-null object\n",
      "dtypes: datetime64[ns](1), object(5)\n",
      "memory usage: 44.1+ KB\n"
     ]
    }
   ],
   "source": [
    "sle_merged_no_az.info()"
   ]
  },
  {
   "cell_type": "markdown",
   "metadata": {},
   "source": [
    "### Convert pandas timestamps to unix timestamps"
   ]
  },
  {
   "cell_type": "code",
   "execution_count": 127,
   "metadata": {},
   "outputs": [
    {
     "name": "stderr",
     "output_type": "stream",
     "text": [
      "C:\\Users\\MBacinsk\\AppData\\Local\\Continuum\\anaconda3\\envs\\mappingEnv\\lib\\site-packages\\ipykernel_launcher.py:1: SettingWithCopyWarning: \n",
      "A value is trying to be set on a copy of a slice from a DataFrame.\n",
      "Try using .loc[row_indexer,col_indexer] = value instead\n",
      "\n",
      "See the caveats in the documentation: http://pandas.pydata.org/pandas-docs/stable/indexing.html#indexing-view-versus-copy\n",
      "  \"\"\"Entry point for launching an IPython kernel.\n"
     ]
    }
   ],
   "source": [
    "sle_merged_no_az['date'] = sle_merged_no_az['date'].astype(np.int64)"
   ]
  },
  {
   "cell_type": "code",
   "execution_count": 128,
   "metadata": {},
   "outputs": [
    {
     "data": {
      "text/html": [
       "<div>\n",
       "<style scoped>\n",
       "    .dataframe tbody tr th:only-of-type {\n",
       "        vertical-align: middle;\n",
       "    }\n",
       "\n",
       "    .dataframe tbody tr th {\n",
       "        vertical-align: top;\n",
       "    }\n",
       "\n",
       "    .dataframe thead th {\n",
       "        text-align: right;\n",
       "    }\n",
       "</style>\n",
       "<table border=\"1\" class=\"dataframe\">\n",
       "  <thead>\n",
       "    <tr style=\"text-align: right;\">\n",
       "      <th></th>\n",
       "      <th>city</th>\n",
       "      <th>county</th>\n",
       "      <th>date</th>\n",
       "      <th>geometry</th>\n",
       "      <th>spectype</th>\n",
       "      <th>virus</th>\n",
       "    </tr>\n",
       "  </thead>\n",
       "  <tbody>\n",
       "    <tr>\n",
       "      <th>0</th>\n",
       "      <td>Mecca</td>\n",
       "      <td>Riverside</td>\n",
       "      <td>1442188800000000000</td>\n",
       "      <td>POINT (-116.0302618249568 33.5276819108859)</td>\n",
       "      <td>Sentinel Chicken</td>\n",
       "      <td>SLEV</td>\n",
       "    </tr>\n",
       "    <tr>\n",
       "      <th>1</th>\n",
       "      <td>Mecca</td>\n",
       "      <td>Riverside</td>\n",
       "      <td>1441843200000000000</td>\n",
       "      <td>POINT (-116.0749179098212 33.54414473222415)</td>\n",
       "      <td>Sentinel Chicken</td>\n",
       "      <td>SLEV</td>\n",
       "    </tr>\n",
       "    <tr>\n",
       "      <th>2</th>\n",
       "      <td>Mecca</td>\n",
       "      <td>Riverside</td>\n",
       "      <td>1443398400000000000</td>\n",
       "      <td>POINT (-116.0788138626815 33.54292818890128)</td>\n",
       "      <td>Sentinel Chicken</td>\n",
       "      <td>SLEV</td>\n",
       "    </tr>\n",
       "    <tr>\n",
       "      <th>3</th>\n",
       "      <td>Mecca</td>\n",
       "      <td>Riverside</td>\n",
       "      <td>1442966400000000000</td>\n",
       "      <td>POINT (-116.0293803087907 33.5347901760566)</td>\n",
       "      <td>Sentinel Chicken</td>\n",
       "      <td>SLEV</td>\n",
       "    </tr>\n",
       "    <tr>\n",
       "      <th>4</th>\n",
       "      <td>Mecca</td>\n",
       "      <td>Riverside</td>\n",
       "      <td>1443052800000000000</td>\n",
       "      <td>POINT (-116.0755536165777 33.54329531806545)</td>\n",
       "      <td>Sentinel Chicken</td>\n",
       "      <td>SLEV</td>\n",
       "    </tr>\n",
       "  </tbody>\n",
       "</table>\n",
       "</div>"
      ],
      "text/plain": [
       "    city     county                 date  \\\n",
       "0  Mecca  Riverside  1442188800000000000   \n",
       "1  Mecca  Riverside  1441843200000000000   \n",
       "2  Mecca  Riverside  1443398400000000000   \n",
       "3  Mecca  Riverside  1442966400000000000   \n",
       "4  Mecca  Riverside  1443052800000000000   \n",
       "\n",
       "                                       geometry          spectype virus  \n",
       "0   POINT (-116.0302618249568 33.5276819108859)  Sentinel Chicken  SLEV  \n",
       "1  POINT (-116.0749179098212 33.54414473222415)  Sentinel Chicken  SLEV  \n",
       "2  POINT (-116.0788138626815 33.54292818890128)  Sentinel Chicken  SLEV  \n",
       "3   POINT (-116.0293803087907 33.5347901760566)  Sentinel Chicken  SLEV  \n",
       "4  POINT (-116.0755536165777 33.54329531806545)  Sentinel Chicken  SLEV  "
      ]
     },
     "execution_count": 128,
     "metadata": {},
     "output_type": "execute_result"
    }
   ],
   "source": [
    "sle_merged_no_az.head()"
   ]
  },
  {
   "cell_type": "code",
   "execution_count": 129,
   "metadata": {},
   "outputs": [
    {
     "name": "stdout",
     "output_type": "stream",
     "text": [
      "<class 'geopandas.geodataframe.GeoDataFrame'>\n",
      "Int64Index: 807 entries, 0 to 778\n",
      "Data columns (total 6 columns):\n",
      "city        807 non-null object\n",
      "county      807 non-null object\n",
      "date        807 non-null int64\n",
      "geometry    807 non-null object\n",
      "spectype    807 non-null object\n",
      "virus       807 non-null object\n",
      "dtypes: int64(1), object(5)\n",
      "memory usage: 44.1+ KB\n"
     ]
    }
   ],
   "source": [
    "sle_merged_no_az.info()"
   ]
  },
  {
   "cell_type": "markdown",
   "metadata": {},
   "source": [
    "### Test converting back to make sure process works okay"
   ]
  },
  {
   "cell_type": "code",
   "execution_count": 130,
   "metadata": {},
   "outputs": [
    {
     "name": "stdout",
     "output_type": "stream",
     "text": [
      "0     2015-09-14\n",
      "1     2015-09-10\n",
      "2     2015-09-28\n",
      "3     2015-09-23\n",
      "4     2015-09-24\n",
      "5     2015-10-13\n",
      "6     2015-11-09\n",
      "11    2016-07-12\n",
      "15    2016-07-21\n",
      "16    2016-07-27\n",
      "24    2016-09-01\n",
      "27    2016-09-14\n",
      "28    2016-10-05\n",
      "29    2017-07-14\n",
      "30    2017-07-18\n",
      "31    2017-07-25\n",
      "32    2017-07-26\n",
      "33    2017-08-02\n",
      "34    2017-08-16\n",
      "35    2017-09-13\n",
      "36    2017-09-27\n",
      "37    2018-08-17\n",
      "38    2018-08-30\n",
      "39    2015-07-28\n",
      "40    2015-07-28\n",
      "41    2015-07-28\n",
      "42    2015-07-28\n",
      "43    2015-08-04\n",
      "44    2015-08-04\n",
      "45    2015-08-11\n",
      "         ...    \n",
      "311   2017-08-24\n",
      "313   2017-08-25\n",
      "315   2017-08-25\n",
      "328   2017-08-31\n",
      "345   2017-09-06\n",
      "346   2017-09-06\n",
      "347   2017-09-06\n",
      "366   2017-09-07\n",
      "373   2017-09-08\n",
      "374   2017-09-08\n",
      "375   2017-09-08\n",
      "391   2017-09-13\n",
      "392   2017-09-13\n",
      "445   2018-06-13\n",
      "524   2018-07-17\n",
      "525   2018-07-17\n",
      "532   2018-07-18\n",
      "533   2018-07-18\n",
      "551   2018-07-24\n",
      "564   2018-07-24\n",
      "608   2018-08-07\n",
      "661   2018-08-16\n",
      "662   2018-08-16\n",
      "686   2018-08-20\n",
      "704   2018-08-27\n",
      "705   2018-08-27\n",
      "706   2018-08-27\n",
      "707   2018-08-27\n",
      "768   2018-09-13\n",
      "778   2018-09-19\n",
      "Name: date, Length: 807, dtype: datetime64[ns]\n"
     ]
    }
   ],
   "source": [
    "print (pd.to_datetime(sle_merged_no_az['date'], unit='ns'))"
   ]
  },
  {
   "cell_type": "markdown",
   "metadata": {},
   "source": [
    "### Conversion back seems to have worked okay so can output to GeoJSON now"
   ]
  },
  {
   "cell_type": "markdown",
   "metadata": {},
   "source": [
    "### Only 12 rows were dropped so we can output to GeoJSON again"
   ]
  },
  {
   "cell_type": "code",
   "execution_count": 131,
   "metadata": {},
   "outputs": [],
   "source": [
    "sle_merged_no_az.to_file('./data/sle/output/sle2015_2018_cleaned.geojson', driver=\"GeoJSON\")"
   ]
  },
  {
   "cell_type": "code",
   "execution_count": null,
   "metadata": {},
   "outputs": [],
   "source": []
  }
 ],
 "metadata": {
  "kernelspec": {
   "display_name": "Python 3",
   "language": "python",
   "name": "python3"
  },
  "language_info": {
   "codemirror_mode": {
    "name": "ipython",
    "version": 3
   },
   "file_extension": ".py",
   "mimetype": "text/x-python",
   "name": "python",
   "nbconvert_exporter": "python",
   "pygments_lexer": "ipython3",
   "version": "3.6.5"
  }
 },
 "nbformat": 4,
 "nbformat_minor": 2
}
