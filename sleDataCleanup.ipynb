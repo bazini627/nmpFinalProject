{
 "cells": [
  {
   "cell_type": "code",
   "execution_count": 1,
   "metadata": {},
   "outputs": [],
   "source": [
    "import geopandas as gpd\n",
    "import pandas as pd\n",
    "import re\n",
    "import fiona\n",
    "fiona.Env(); # needed to resolve driver error when exporting to GeoJSON\n",
    "import numpy as np"
   ]
  },
  {
   "cell_type": "markdown",
   "metadata": {},
   "source": [
    "### Read in the SLE GeoJSON for 2015 to 2018"
   ]
  },
  {
   "cell_type": "code",
   "execution_count": 2,
   "metadata": {},
   "outputs": [],
   "source": [
    "sle_data = gpd.read_file('./data/sle/output/sle2015_2018.geojson')"
   ]
  },
  {
   "cell_type": "code",
   "execution_count": 3,
   "metadata": {},
   "outputs": [
    {
     "data": {
      "text/html": [
       "<div>\n",
       "<style scoped>\n",
       "    .dataframe tbody tr th:only-of-type {\n",
       "        vertical-align: middle;\n",
       "    }\n",
       "\n",
       "    .dataframe tbody tr th {\n",
       "        vertical-align: top;\n",
       "    }\n",
       "\n",
       "    .dataframe thead th {\n",
       "        text-align: right;\n",
       "    }\n",
       "</style>\n",
       "<table border=\"1\" class=\"dataframe\">\n",
       "  <thead>\n",
       "    <tr style=\"text-align: right;\">\n",
       "      <th></th>\n",
       "      <th>date</th>\n",
       "      <th>city</th>\n",
       "      <th>region</th>\n",
       "      <th>positive</th>\n",
       "      <th>title</th>\n",
       "      <th>geometry</th>\n",
       "    </tr>\n",
       "  </thead>\n",
       "  <tbody>\n",
       "    <tr>\n",
       "      <th>0</th>\n",
       "      <td>09/14/2015</td>\n",
       "      <td>Mecca</td>\n",
       "      <td>Riverside County (California, USA)</td>\n",
       "      <td>SLEV</td>\n",
       "      <td>YTD Positive Sentinel Chicken</td>\n",
       "      <td>POINT (-116.0302618249568 33.5276819108859)</td>\n",
       "    </tr>\n",
       "    <tr>\n",
       "      <th>1</th>\n",
       "      <td>09/10/2015</td>\n",
       "      <td>Mecca</td>\n",
       "      <td>Riverside County (California, USA)</td>\n",
       "      <td>SLEV</td>\n",
       "      <td>YTD Positive Sentinel Chicken</td>\n",
       "      <td>POINT (-116.0749179098212 33.54414473222415)</td>\n",
       "    </tr>\n",
       "    <tr>\n",
       "      <th>2</th>\n",
       "      <td>09/28/2015</td>\n",
       "      <td>Mecca</td>\n",
       "      <td>Riverside County (California, USA)</td>\n",
       "      <td>SLEV</td>\n",
       "      <td>YTD Positive Sentinel Chicken</td>\n",
       "      <td>POINT (-116.0788138626815 33.54292818890128)</td>\n",
       "    </tr>\n",
       "    <tr>\n",
       "      <th>3</th>\n",
       "      <td>09/23/2015</td>\n",
       "      <td>Mecca</td>\n",
       "      <td>Riverside County (California, USA)</td>\n",
       "      <td>SLEV</td>\n",
       "      <td>YTD Positive Sentinel Chicken</td>\n",
       "      <td>POINT (-116.0293803087907 33.5347901760566)</td>\n",
       "    </tr>\n",
       "    <tr>\n",
       "      <th>4</th>\n",
       "      <td>09/24/2015</td>\n",
       "      <td>Mecca</td>\n",
       "      <td>Riverside County (California, USA)</td>\n",
       "      <td>SLEV</td>\n",
       "      <td>YTD Positive Sentinel Chicken</td>\n",
       "      <td>POINT (-116.0755536165777 33.54329531806545)</td>\n",
       "    </tr>\n",
       "  </tbody>\n",
       "</table>\n",
       "</div>"
      ],
      "text/plain": [
       "         date   city                              region positive  \\\n",
       "0  09/14/2015  Mecca  Riverside County (California, USA)     SLEV   \n",
       "1  09/10/2015  Mecca  Riverside County (California, USA)     SLEV   \n",
       "2  09/28/2015  Mecca  Riverside County (California, USA)     SLEV   \n",
       "3  09/23/2015  Mecca  Riverside County (California, USA)     SLEV   \n",
       "4  09/24/2015  Mecca  Riverside County (California, USA)     SLEV   \n",
       "\n",
       "                           title                                      geometry  \n",
       "0  YTD Positive Sentinel Chicken   POINT (-116.0302618249568 33.5276819108859)  \n",
       "1  YTD Positive Sentinel Chicken  POINT (-116.0749179098212 33.54414473222415)  \n",
       "2  YTD Positive Sentinel Chicken  POINT (-116.0788138626815 33.54292818890128)  \n",
       "3  YTD Positive Sentinel Chicken   POINT (-116.0293803087907 33.5347901760566)  \n",
       "4  YTD Positive Sentinel Chicken  POINT (-116.0755536165777 33.54329531806545)  "
      ]
     },
     "execution_count": 3,
     "metadata": {},
     "output_type": "execute_result"
    }
   ],
   "source": [
    "sle_data.head()"
   ]
  },
  {
   "cell_type": "markdown",
   "metadata": {},
   "source": [
    "### Make sure all cities are properly capitalized"
   ]
  },
  {
   "cell_type": "code",
   "execution_count": 4,
   "metadata": {},
   "outputs": [],
   "source": [
    "sle_data['city'] = sle_data['city'].str.title()"
   ]
  },
  {
   "cell_type": "markdown",
   "metadata": {},
   "source": [
    "### Ciyt of Firebaugh is enterered as *Firebaugh, Ca* in some places; replace with just *Firebaugh*"
   ]
  },
  {
   "cell_type": "code",
   "execution_count": 5,
   "metadata": {},
   "outputs": [
    {
     "data": {
      "text/html": [
       "<div>\n",
       "<style scoped>\n",
       "    .dataframe tbody tr th:only-of-type {\n",
       "        vertical-align: middle;\n",
       "    }\n",
       "\n",
       "    .dataframe tbody tr th {\n",
       "        vertical-align: top;\n",
       "    }\n",
       "\n",
       "    .dataframe thead th {\n",
       "        text-align: right;\n",
       "    }\n",
       "</style>\n",
       "<table border=\"1\" class=\"dataframe\">\n",
       "  <thead>\n",
       "    <tr style=\"text-align: right;\">\n",
       "      <th></th>\n",
       "      <th>date</th>\n",
       "      <th>city</th>\n",
       "      <th>region</th>\n",
       "      <th>positive</th>\n",
       "      <th>title</th>\n",
       "      <th>geometry</th>\n",
       "    </tr>\n",
       "  </thead>\n",
       "  <tbody>\n",
       "    <tr>\n",
       "      <th>312</th>\n",
       "      <td>08/25/2017</td>\n",
       "      <td>Firebaugh</td>\n",
       "      <td>Fresno County (California, USA)</td>\n",
       "      <td>SLEV</td>\n",
       "      <td>YTD Positive Mosquito Pool</td>\n",
       "      <td>POINT (-120.4526425323013 36.86753008777206)</td>\n",
       "    </tr>\n",
       "    <tr>\n",
       "      <th>314</th>\n",
       "      <td>08/24/2017</td>\n",
       "      <td>Firebaugh</td>\n",
       "      <td>Fresno County (California, USA)</td>\n",
       "      <td>SLEV</td>\n",
       "      <td>YTD Positive Mosquito Pool</td>\n",
       "      <td>POINT (-120.4428420451159 36.85214977452888)</td>\n",
       "    </tr>\n",
       "    <tr>\n",
       "      <th>316</th>\n",
       "      <td>08/24/2017</td>\n",
       "      <td>Firebaugh, Ca</td>\n",
       "      <td>Fresno County (California, USA)</td>\n",
       "      <td>SLEV</td>\n",
       "      <td>YTD Positive Mosquito Pool</td>\n",
       "      <td>POINT (-120.4422209863655 36.84905693618585)</td>\n",
       "    </tr>\n",
       "    <tr>\n",
       "      <th>318</th>\n",
       "      <td>08/21/2017</td>\n",
       "      <td>Firebaugh</td>\n",
       "      <td>Madera County (California, USA)</td>\n",
       "      <td>SLEV</td>\n",
       "      <td>YTD Positive Mosquito Pool</td>\n",
       "      <td>POINT (-120.3398961328568 36.8597725931314)</td>\n",
       "    </tr>\n",
       "    <tr>\n",
       "      <th>335</th>\n",
       "      <td>08/29/2017</td>\n",
       "      <td>Firebaugh</td>\n",
       "      <td>Madera County (California, USA)</td>\n",
       "      <td>SLEV</td>\n",
       "      <td>YTD Positive Mosquito Pool</td>\n",
       "      <td>POINT (-120.3433440103358 36.85734281528183)</td>\n",
       "    </tr>\n",
       "    <tr>\n",
       "      <th>336</th>\n",
       "      <td>09/06/2017</td>\n",
       "      <td>Firebaugh</td>\n",
       "      <td>Madera County (California, USA)</td>\n",
       "      <td>SLEV</td>\n",
       "      <td>YTD Positive Mosquito Pool</td>\n",
       "      <td>POINT (-120.4325121758841 36.85674435765051)</td>\n",
       "    </tr>\n",
       "    <tr>\n",
       "      <th>337</th>\n",
       "      <td>09/06/2017</td>\n",
       "      <td>Firebaugh, Ca</td>\n",
       "      <td>Fresno County (California, USA)</td>\n",
       "      <td>SLEV</td>\n",
       "      <td>YTD Positive Mosquito Pool</td>\n",
       "      <td>POINT (-120.4522312963995 36.86118541644054)</td>\n",
       "    </tr>\n",
       "    <tr>\n",
       "      <th>342</th>\n",
       "      <td>09/06/2017</td>\n",
       "      <td>Firebaugh</td>\n",
       "      <td>Fresno County (California, USA)</td>\n",
       "      <td>SLEV</td>\n",
       "      <td>YTD Positive Mosquito Pool</td>\n",
       "      <td>POINT (-120.4561944353978 36.84599226204186)</td>\n",
       "    </tr>\n",
       "    <tr>\n",
       "      <th>343</th>\n",
       "      <td>09/06/2017</td>\n",
       "      <td>Firebaugh</td>\n",
       "      <td>Fresno County (California, USA)</td>\n",
       "      <td>SLEV</td>\n",
       "      <td>YTD Positive Mosquito Pool</td>\n",
       "      <td>POINT (-120.4650858985553 36.873176917487)</td>\n",
       "    </tr>\n",
       "    <tr>\n",
       "      <th>344</th>\n",
       "      <td>09/06/2017</td>\n",
       "      <td>Firebaugh</td>\n",
       "      <td>Fresno County (California, USA)</td>\n",
       "      <td>SLEV</td>\n",
       "      <td>YTD Positive Mosquito Pool</td>\n",
       "      <td>POINT (-120.4716968955816 36.86465906963659)</td>\n",
       "    </tr>\n",
       "    <tr>\n",
       "      <th>349</th>\n",
       "      <td>09/06/2017</td>\n",
       "      <td>Firebaugh</td>\n",
       "      <td>Fresno County (California, USA)</td>\n",
       "      <td>SLEV</td>\n",
       "      <td>YTD Positive Mosquito Pool</td>\n",
       "      <td>POINT (-120.6546360817701 36.85147593628533)</td>\n",
       "    </tr>\n",
       "    <tr>\n",
       "      <th>350</th>\n",
       "      <td>09/06/2017</td>\n",
       "      <td>Firebaugh</td>\n",
       "      <td>Fresno County (California, USA)</td>\n",
       "      <td>SLEV</td>\n",
       "      <td>YTD Positive Mosquito Pool</td>\n",
       "      <td>POINT (-120.650122348174 36.84517027223632)</td>\n",
       "    </tr>\n",
       "    <tr>\n",
       "      <th>435</th>\n",
       "      <td>10/12/2017</td>\n",
       "      <td>Firebaugh</td>\n",
       "      <td>Fresno County (California, USA)</td>\n",
       "      <td>SLEV</td>\n",
       "      <td>YTD Positive Mosquito Pool</td>\n",
       "      <td>POINT (-120.3820138257186 36.79966914263075)</td>\n",
       "    </tr>\n",
       "    <tr>\n",
       "      <th>719</th>\n",
       "      <td>09/05/2018</td>\n",
       "      <td>Firebaugh, Ca</td>\n",
       "      <td>Fresno County (California, USA)</td>\n",
       "      <td>SLEV</td>\n",
       "      <td>YTD Positive Mosquito Pool</td>\n",
       "      <td>POINT (-120.5400238487699 36.97791698863181)</td>\n",
       "    </tr>\n",
       "    <tr>\n",
       "      <th>744</th>\n",
       "      <td>09/11/2018</td>\n",
       "      <td>Firebaugh</td>\n",
       "      <td>Fresno County (California, USA)</td>\n",
       "      <td>SLEV</td>\n",
       "      <td>YTD Positive Mosquito Pool</td>\n",
       "      <td>POINT (-120.4589209985928 36.84451794509118)</td>\n",
       "    </tr>\n",
       "    <tr>\n",
       "      <th>746</th>\n",
       "      <td>09/11/2018</td>\n",
       "      <td>Firebaugh</td>\n",
       "      <td>Fresno County (California, USA)</td>\n",
       "      <td>SLEV</td>\n",
       "      <td>YTD Positive Mosquito Pool</td>\n",
       "      <td>POINT (-120.4493388397791 36.80571148879103)</td>\n",
       "    </tr>\n",
       "    <tr>\n",
       "      <th>818</th>\n",
       "      <td>10/09/2018</td>\n",
       "      <td>Firebaugh</td>\n",
       "      <td>Fresno County (California, USA)</td>\n",
       "      <td>SLEV</td>\n",
       "      <td>YTD Positive Mosquito Pool</td>\n",
       "      <td>POINT (-120.6522902080692 36.84633101534674)</td>\n",
       "    </tr>\n",
       "  </tbody>\n",
       "</table>\n",
       "</div>"
      ],
      "text/plain": [
       "           date           city                           region positive  \\\n",
       "312  08/25/2017      Firebaugh  Fresno County (California, USA)     SLEV   \n",
       "314  08/24/2017      Firebaugh  Fresno County (California, USA)     SLEV   \n",
       "316  08/24/2017  Firebaugh, Ca  Fresno County (California, USA)     SLEV   \n",
       "318  08/21/2017      Firebaugh  Madera County (California, USA)     SLEV   \n",
       "335  08/29/2017      Firebaugh  Madera County (California, USA)     SLEV   \n",
       "336  09/06/2017      Firebaugh  Madera County (California, USA)     SLEV   \n",
       "337  09/06/2017  Firebaugh, Ca  Fresno County (California, USA)     SLEV   \n",
       "342  09/06/2017      Firebaugh  Fresno County (California, USA)     SLEV   \n",
       "343  09/06/2017      Firebaugh  Fresno County (California, USA)     SLEV   \n",
       "344  09/06/2017      Firebaugh  Fresno County (California, USA)     SLEV   \n",
       "349  09/06/2017      Firebaugh  Fresno County (California, USA)     SLEV   \n",
       "350  09/06/2017      Firebaugh  Fresno County (California, USA)     SLEV   \n",
       "435  10/12/2017      Firebaugh  Fresno County (California, USA)     SLEV   \n",
       "719  09/05/2018  Firebaugh, Ca  Fresno County (California, USA)     SLEV   \n",
       "744  09/11/2018      Firebaugh  Fresno County (California, USA)     SLEV   \n",
       "746  09/11/2018      Firebaugh  Fresno County (California, USA)     SLEV   \n",
       "818  10/09/2018      Firebaugh  Fresno County (California, USA)     SLEV   \n",
       "\n",
       "                          title                                      geometry  \n",
       "312  YTD Positive Mosquito Pool  POINT (-120.4526425323013 36.86753008777206)  \n",
       "314  YTD Positive Mosquito Pool  POINT (-120.4428420451159 36.85214977452888)  \n",
       "316  YTD Positive Mosquito Pool  POINT (-120.4422209863655 36.84905693618585)  \n",
       "318  YTD Positive Mosquito Pool   POINT (-120.3398961328568 36.8597725931314)  \n",
       "335  YTD Positive Mosquito Pool  POINT (-120.3433440103358 36.85734281528183)  \n",
       "336  YTD Positive Mosquito Pool  POINT (-120.4325121758841 36.85674435765051)  \n",
       "337  YTD Positive Mosquito Pool  POINT (-120.4522312963995 36.86118541644054)  \n",
       "342  YTD Positive Mosquito Pool  POINT (-120.4561944353978 36.84599226204186)  \n",
       "343  YTD Positive Mosquito Pool    POINT (-120.4650858985553 36.873176917487)  \n",
       "344  YTD Positive Mosquito Pool  POINT (-120.4716968955816 36.86465906963659)  \n",
       "349  YTD Positive Mosquito Pool  POINT (-120.6546360817701 36.85147593628533)  \n",
       "350  YTD Positive Mosquito Pool   POINT (-120.650122348174 36.84517027223632)  \n",
       "435  YTD Positive Mosquito Pool  POINT (-120.3820138257186 36.79966914263075)  \n",
       "719  YTD Positive Mosquito Pool  POINT (-120.5400238487699 36.97791698863181)  \n",
       "744  YTD Positive Mosquito Pool  POINT (-120.4589209985928 36.84451794509118)  \n",
       "746  YTD Positive Mosquito Pool  POINT (-120.4493388397791 36.80571148879103)  \n",
       "818  YTD Positive Mosquito Pool  POINT (-120.6522902080692 36.84633101534674)  "
      ]
     },
     "execution_count": 5,
     "metadata": {},
     "output_type": "execute_result"
    }
   ],
   "source": [
    "sle_data[sle_data['city'].str.contains('Fire')==True]"
   ]
  },
  {
   "cell_type": "code",
   "execution_count": 6,
   "metadata": {},
   "outputs": [],
   "source": [
    "sle_data['city'] = sle_data['city'].replace('Firebaugh, Ca', 'Firebaugh')"
   ]
  },
  {
   "cell_type": "code",
   "execution_count": 7,
   "metadata": {},
   "outputs": [
    {
     "data": {
      "text/html": [
       "<div>\n",
       "<style scoped>\n",
       "    .dataframe tbody tr th:only-of-type {\n",
       "        vertical-align: middle;\n",
       "    }\n",
       "\n",
       "    .dataframe tbody tr th {\n",
       "        vertical-align: top;\n",
       "    }\n",
       "\n",
       "    .dataframe thead th {\n",
       "        text-align: right;\n",
       "    }\n",
       "</style>\n",
       "<table border=\"1\" class=\"dataframe\">\n",
       "  <thead>\n",
       "    <tr style=\"text-align: right;\">\n",
       "      <th></th>\n",
       "      <th>date</th>\n",
       "      <th>city</th>\n",
       "      <th>region</th>\n",
       "      <th>positive</th>\n",
       "      <th>title</th>\n",
       "      <th>geometry</th>\n",
       "    </tr>\n",
       "  </thead>\n",
       "  <tbody>\n",
       "    <tr>\n",
       "      <th>312</th>\n",
       "      <td>08/25/2017</td>\n",
       "      <td>Firebaugh</td>\n",
       "      <td>Fresno County (California, USA)</td>\n",
       "      <td>SLEV</td>\n",
       "      <td>YTD Positive Mosquito Pool</td>\n",
       "      <td>POINT (-120.4526425323013 36.86753008777206)</td>\n",
       "    </tr>\n",
       "    <tr>\n",
       "      <th>314</th>\n",
       "      <td>08/24/2017</td>\n",
       "      <td>Firebaugh</td>\n",
       "      <td>Fresno County (California, USA)</td>\n",
       "      <td>SLEV</td>\n",
       "      <td>YTD Positive Mosquito Pool</td>\n",
       "      <td>POINT (-120.4428420451159 36.85214977452888)</td>\n",
       "    </tr>\n",
       "    <tr>\n",
       "      <th>316</th>\n",
       "      <td>08/24/2017</td>\n",
       "      <td>Firebaugh</td>\n",
       "      <td>Fresno County (California, USA)</td>\n",
       "      <td>SLEV</td>\n",
       "      <td>YTD Positive Mosquito Pool</td>\n",
       "      <td>POINT (-120.4422209863655 36.84905693618585)</td>\n",
       "    </tr>\n",
       "    <tr>\n",
       "      <th>318</th>\n",
       "      <td>08/21/2017</td>\n",
       "      <td>Firebaugh</td>\n",
       "      <td>Madera County (California, USA)</td>\n",
       "      <td>SLEV</td>\n",
       "      <td>YTD Positive Mosquito Pool</td>\n",
       "      <td>POINT (-120.3398961328568 36.8597725931314)</td>\n",
       "    </tr>\n",
       "    <tr>\n",
       "      <th>335</th>\n",
       "      <td>08/29/2017</td>\n",
       "      <td>Firebaugh</td>\n",
       "      <td>Madera County (California, USA)</td>\n",
       "      <td>SLEV</td>\n",
       "      <td>YTD Positive Mosquito Pool</td>\n",
       "      <td>POINT (-120.3433440103358 36.85734281528183)</td>\n",
       "    </tr>\n",
       "    <tr>\n",
       "      <th>336</th>\n",
       "      <td>09/06/2017</td>\n",
       "      <td>Firebaugh</td>\n",
       "      <td>Madera County (California, USA)</td>\n",
       "      <td>SLEV</td>\n",
       "      <td>YTD Positive Mosquito Pool</td>\n",
       "      <td>POINT (-120.4325121758841 36.85674435765051)</td>\n",
       "    </tr>\n",
       "    <tr>\n",
       "      <th>337</th>\n",
       "      <td>09/06/2017</td>\n",
       "      <td>Firebaugh</td>\n",
       "      <td>Fresno County (California, USA)</td>\n",
       "      <td>SLEV</td>\n",
       "      <td>YTD Positive Mosquito Pool</td>\n",
       "      <td>POINT (-120.4522312963995 36.86118541644054)</td>\n",
       "    </tr>\n",
       "    <tr>\n",
       "      <th>342</th>\n",
       "      <td>09/06/2017</td>\n",
       "      <td>Firebaugh</td>\n",
       "      <td>Fresno County (California, USA)</td>\n",
       "      <td>SLEV</td>\n",
       "      <td>YTD Positive Mosquito Pool</td>\n",
       "      <td>POINT (-120.4561944353978 36.84599226204186)</td>\n",
       "    </tr>\n",
       "    <tr>\n",
       "      <th>343</th>\n",
       "      <td>09/06/2017</td>\n",
       "      <td>Firebaugh</td>\n",
       "      <td>Fresno County (California, USA)</td>\n",
       "      <td>SLEV</td>\n",
       "      <td>YTD Positive Mosquito Pool</td>\n",
       "      <td>POINT (-120.4650858985553 36.873176917487)</td>\n",
       "    </tr>\n",
       "    <tr>\n",
       "      <th>344</th>\n",
       "      <td>09/06/2017</td>\n",
       "      <td>Firebaugh</td>\n",
       "      <td>Fresno County (California, USA)</td>\n",
       "      <td>SLEV</td>\n",
       "      <td>YTD Positive Mosquito Pool</td>\n",
       "      <td>POINT (-120.4716968955816 36.86465906963659)</td>\n",
       "    </tr>\n",
       "    <tr>\n",
       "      <th>349</th>\n",
       "      <td>09/06/2017</td>\n",
       "      <td>Firebaugh</td>\n",
       "      <td>Fresno County (California, USA)</td>\n",
       "      <td>SLEV</td>\n",
       "      <td>YTD Positive Mosquito Pool</td>\n",
       "      <td>POINT (-120.6546360817701 36.85147593628533)</td>\n",
       "    </tr>\n",
       "    <tr>\n",
       "      <th>350</th>\n",
       "      <td>09/06/2017</td>\n",
       "      <td>Firebaugh</td>\n",
       "      <td>Fresno County (California, USA)</td>\n",
       "      <td>SLEV</td>\n",
       "      <td>YTD Positive Mosquito Pool</td>\n",
       "      <td>POINT (-120.650122348174 36.84517027223632)</td>\n",
       "    </tr>\n",
       "    <tr>\n",
       "      <th>435</th>\n",
       "      <td>10/12/2017</td>\n",
       "      <td>Firebaugh</td>\n",
       "      <td>Fresno County (California, USA)</td>\n",
       "      <td>SLEV</td>\n",
       "      <td>YTD Positive Mosquito Pool</td>\n",
       "      <td>POINT (-120.3820138257186 36.79966914263075)</td>\n",
       "    </tr>\n",
       "    <tr>\n",
       "      <th>719</th>\n",
       "      <td>09/05/2018</td>\n",
       "      <td>Firebaugh</td>\n",
       "      <td>Fresno County (California, USA)</td>\n",
       "      <td>SLEV</td>\n",
       "      <td>YTD Positive Mosquito Pool</td>\n",
       "      <td>POINT (-120.5400238487699 36.97791698863181)</td>\n",
       "    </tr>\n",
       "    <tr>\n",
       "      <th>744</th>\n",
       "      <td>09/11/2018</td>\n",
       "      <td>Firebaugh</td>\n",
       "      <td>Fresno County (California, USA)</td>\n",
       "      <td>SLEV</td>\n",
       "      <td>YTD Positive Mosquito Pool</td>\n",
       "      <td>POINT (-120.4589209985928 36.84451794509118)</td>\n",
       "    </tr>\n",
       "    <tr>\n",
       "      <th>746</th>\n",
       "      <td>09/11/2018</td>\n",
       "      <td>Firebaugh</td>\n",
       "      <td>Fresno County (California, USA)</td>\n",
       "      <td>SLEV</td>\n",
       "      <td>YTD Positive Mosquito Pool</td>\n",
       "      <td>POINT (-120.4493388397791 36.80571148879103)</td>\n",
       "    </tr>\n",
       "    <tr>\n",
       "      <th>818</th>\n",
       "      <td>10/09/2018</td>\n",
       "      <td>Firebaugh</td>\n",
       "      <td>Fresno County (California, USA)</td>\n",
       "      <td>SLEV</td>\n",
       "      <td>YTD Positive Mosquito Pool</td>\n",
       "      <td>POINT (-120.6522902080692 36.84633101534674)</td>\n",
       "    </tr>\n",
       "  </tbody>\n",
       "</table>\n",
       "</div>"
      ],
      "text/plain": [
       "           date       city                           region positive  \\\n",
       "312  08/25/2017  Firebaugh  Fresno County (California, USA)     SLEV   \n",
       "314  08/24/2017  Firebaugh  Fresno County (California, USA)     SLEV   \n",
       "316  08/24/2017  Firebaugh  Fresno County (California, USA)     SLEV   \n",
       "318  08/21/2017  Firebaugh  Madera County (California, USA)     SLEV   \n",
       "335  08/29/2017  Firebaugh  Madera County (California, USA)     SLEV   \n",
       "336  09/06/2017  Firebaugh  Madera County (California, USA)     SLEV   \n",
       "337  09/06/2017  Firebaugh  Fresno County (California, USA)     SLEV   \n",
       "342  09/06/2017  Firebaugh  Fresno County (California, USA)     SLEV   \n",
       "343  09/06/2017  Firebaugh  Fresno County (California, USA)     SLEV   \n",
       "344  09/06/2017  Firebaugh  Fresno County (California, USA)     SLEV   \n",
       "349  09/06/2017  Firebaugh  Fresno County (California, USA)     SLEV   \n",
       "350  09/06/2017  Firebaugh  Fresno County (California, USA)     SLEV   \n",
       "435  10/12/2017  Firebaugh  Fresno County (California, USA)     SLEV   \n",
       "719  09/05/2018  Firebaugh  Fresno County (California, USA)     SLEV   \n",
       "744  09/11/2018  Firebaugh  Fresno County (California, USA)     SLEV   \n",
       "746  09/11/2018  Firebaugh  Fresno County (California, USA)     SLEV   \n",
       "818  10/09/2018  Firebaugh  Fresno County (California, USA)     SLEV   \n",
       "\n",
       "                          title                                      geometry  \n",
       "312  YTD Positive Mosquito Pool  POINT (-120.4526425323013 36.86753008777206)  \n",
       "314  YTD Positive Mosquito Pool  POINT (-120.4428420451159 36.85214977452888)  \n",
       "316  YTD Positive Mosquito Pool  POINT (-120.4422209863655 36.84905693618585)  \n",
       "318  YTD Positive Mosquito Pool   POINT (-120.3398961328568 36.8597725931314)  \n",
       "335  YTD Positive Mosquito Pool  POINT (-120.3433440103358 36.85734281528183)  \n",
       "336  YTD Positive Mosquito Pool  POINT (-120.4325121758841 36.85674435765051)  \n",
       "337  YTD Positive Mosquito Pool  POINT (-120.4522312963995 36.86118541644054)  \n",
       "342  YTD Positive Mosquito Pool  POINT (-120.4561944353978 36.84599226204186)  \n",
       "343  YTD Positive Mosquito Pool    POINT (-120.4650858985553 36.873176917487)  \n",
       "344  YTD Positive Mosquito Pool  POINT (-120.4716968955816 36.86465906963659)  \n",
       "349  YTD Positive Mosquito Pool  POINT (-120.6546360817701 36.85147593628533)  \n",
       "350  YTD Positive Mosquito Pool   POINT (-120.650122348174 36.84517027223632)  \n",
       "435  YTD Positive Mosquito Pool  POINT (-120.3820138257186 36.79966914263075)  \n",
       "719  YTD Positive Mosquito Pool  POINT (-120.5400238487699 36.97791698863181)  \n",
       "744  YTD Positive Mosquito Pool  POINT (-120.4589209985928 36.84451794509118)  \n",
       "746  YTD Positive Mosquito Pool  POINT (-120.4493388397791 36.80571148879103)  \n",
       "818  YTD Positive Mosquito Pool  POINT (-120.6522902080692 36.84633101534674)  "
      ]
     },
     "execution_count": 7,
     "metadata": {},
     "output_type": "execute_result"
    }
   ],
   "source": [
    "sle_data[sle_data['city'].str.contains('Fire')==True]"
   ]
  },
  {
   "cell_type": "markdown",
   "metadata": {},
   "source": [
    "### Loop through the regions and remove '(California, USA)'"
   ]
  },
  {
   "cell_type": "code",
   "execution_count": 8,
   "metadata": {},
   "outputs": [],
   "source": [
    "# Create an empty array that will hold region values\n",
    "regions = []\n",
    "\n",
    "# Loop over the region column\n",
    "for value in sle_data['region']:\n",
    "    if value is None:\n",
    "        regions.append('None')\n",
    "    else:\n",
    "        # Split the name of the value in pieces by ' C' portion of of the current region name \n",
    "        chunks = value.split(' C')\n",
    "        # Keep the first chunk of the split and append\n",
    "        county = chunks[0]\n",
    "        regions.append(county)"
   ]
  },
  {
   "cell_type": "markdown",
   "metadata": {},
   "source": [
    "### Drop the current region column and re-add with the values from the regions list"
   ]
  },
  {
   "cell_type": "code",
   "execution_count": 9,
   "metadata": {},
   "outputs": [],
   "source": [
    "# Drop the column\n",
    "sle_data.drop('region', axis=1, inplace=True)\n",
    "\n",
    "# Add back in using the region array\n",
    "sle_data['region'] = regions"
   ]
  },
  {
   "cell_type": "markdown",
   "metadata": {},
   "source": [
    "### Change values in the title column"
   ]
  },
  {
   "cell_type": "code",
   "execution_count": 10,
   "metadata": {},
   "outputs": [],
   "source": [
    "# Create an empty array that will hold our title values\n",
    "titles = []\n",
    "\n",
    "# Loop over the title column\n",
    "for title in sle_data['title']:\n",
    "    if title == 'YTD Positive Sentinel Chicken':\n",
    "        titles.append('Sentinel Chicken')\n",
    "    elif title == 'YTD Positive Mosquito Pool':\n",
    "        titles.append('Mosquito Pool')"
   ]
  },
  {
   "cell_type": "markdown",
   "metadata": {},
   "source": [
    "### Drop the current title column and re-add with the values from the titles list"
   ]
  },
  {
   "cell_type": "code",
   "execution_count": 11,
   "metadata": {},
   "outputs": [],
   "source": [
    "# Drop the column\n",
    "sle_data.drop('title', axis=1, inplace=True)\n",
    "\n",
    "# Add back in using the region array\n",
    "sle_data['title'] = titles"
   ]
  },
  {
   "cell_type": "markdown",
   "metadata": {},
   "source": [
    "### Rearrange columns newly added columns match the previous arrangement"
   ]
  },
  {
   "cell_type": "code",
   "execution_count": 12,
   "metadata": {},
   "outputs": [],
   "source": [
    "# Add our column names to an array\n",
    "sle_cols = sle_data.columns.tolist()\n",
    "\n",
    "# Rearrange our columns\n",
    "sle_cols_rearranged = ['date','city', 'region', 'positive', 'title', 'geometry']\n",
    "\n",
    "# Assign new arrangement back to dataframe\n",
    "sle_data = sle_data[sle_cols_rearranged]"
   ]
  },
  {
   "cell_type": "code",
   "execution_count": 13,
   "metadata": {},
   "outputs": [
    {
     "data": {
      "text/html": [
       "<div>\n",
       "<style scoped>\n",
       "    .dataframe tbody tr th:only-of-type {\n",
       "        vertical-align: middle;\n",
       "    }\n",
       "\n",
       "    .dataframe tbody tr th {\n",
       "        vertical-align: top;\n",
       "    }\n",
       "\n",
       "    .dataframe thead th {\n",
       "        text-align: right;\n",
       "    }\n",
       "</style>\n",
       "<table border=\"1\" class=\"dataframe\">\n",
       "  <thead>\n",
       "    <tr style=\"text-align: right;\">\n",
       "      <th></th>\n",
       "      <th>date</th>\n",
       "      <th>city</th>\n",
       "      <th>region</th>\n",
       "      <th>positive</th>\n",
       "      <th>title</th>\n",
       "      <th>geometry</th>\n",
       "    </tr>\n",
       "  </thead>\n",
       "  <tbody>\n",
       "    <tr>\n",
       "      <th>0</th>\n",
       "      <td>09/14/2015</td>\n",
       "      <td>Mecca</td>\n",
       "      <td>Riverside</td>\n",
       "      <td>SLEV</td>\n",
       "      <td>Sentinel Chicken</td>\n",
       "      <td>POINT (-116.0302618249568 33.5276819108859)</td>\n",
       "    </tr>\n",
       "    <tr>\n",
       "      <th>1</th>\n",
       "      <td>09/10/2015</td>\n",
       "      <td>Mecca</td>\n",
       "      <td>Riverside</td>\n",
       "      <td>SLEV</td>\n",
       "      <td>Sentinel Chicken</td>\n",
       "      <td>POINT (-116.0749179098212 33.54414473222415)</td>\n",
       "    </tr>\n",
       "    <tr>\n",
       "      <th>2</th>\n",
       "      <td>09/28/2015</td>\n",
       "      <td>Mecca</td>\n",
       "      <td>Riverside</td>\n",
       "      <td>SLEV</td>\n",
       "      <td>Sentinel Chicken</td>\n",
       "      <td>POINT (-116.0788138626815 33.54292818890128)</td>\n",
       "    </tr>\n",
       "    <tr>\n",
       "      <th>3</th>\n",
       "      <td>09/23/2015</td>\n",
       "      <td>Mecca</td>\n",
       "      <td>Riverside</td>\n",
       "      <td>SLEV</td>\n",
       "      <td>Sentinel Chicken</td>\n",
       "      <td>POINT (-116.0293803087907 33.5347901760566)</td>\n",
       "    </tr>\n",
       "    <tr>\n",
       "      <th>4</th>\n",
       "      <td>09/24/2015</td>\n",
       "      <td>Mecca</td>\n",
       "      <td>Riverside</td>\n",
       "      <td>SLEV</td>\n",
       "      <td>Sentinel Chicken</td>\n",
       "      <td>POINT (-116.0755536165777 33.54329531806545)</td>\n",
       "    </tr>\n",
       "  </tbody>\n",
       "</table>\n",
       "</div>"
      ],
      "text/plain": [
       "         date   city     region positive             title  \\\n",
       "0  09/14/2015  Mecca  Riverside     SLEV  Sentinel Chicken   \n",
       "1  09/10/2015  Mecca  Riverside     SLEV  Sentinel Chicken   \n",
       "2  09/28/2015  Mecca  Riverside     SLEV  Sentinel Chicken   \n",
       "3  09/23/2015  Mecca  Riverside     SLEV  Sentinel Chicken   \n",
       "4  09/24/2015  Mecca  Riverside     SLEV  Sentinel Chicken   \n",
       "\n",
       "                                       geometry  \n",
       "0   POINT (-116.0302618249568 33.5276819108859)  \n",
       "1  POINT (-116.0749179098212 33.54414473222415)  \n",
       "2  POINT (-116.0788138626815 33.54292818890128)  \n",
       "3   POINT (-116.0293803087907 33.5347901760566)  \n",
       "4  POINT (-116.0755536165777 33.54329531806545)  "
      ]
     },
     "execution_count": 13,
     "metadata": {},
     "output_type": "execute_result"
    }
   ],
   "source": [
    "sle_data.head()"
   ]
  },
  {
   "cell_type": "markdown",
   "metadata": {},
   "source": [
    "### Rename columns"
   ]
  },
  {
   "cell_type": "code",
   "execution_count": 14,
   "metadata": {},
   "outputs": [],
   "source": [
    "sle_data.rename(columns={'region' : 'county', 'positive' : 'virus', 'title' : 'spectype'}, inplace=True)"
   ]
  },
  {
   "cell_type": "code",
   "execution_count": 15,
   "metadata": {},
   "outputs": [
    {
     "data": {
      "text/html": [
       "<div>\n",
       "<style scoped>\n",
       "    .dataframe tbody tr th:only-of-type {\n",
       "        vertical-align: middle;\n",
       "    }\n",
       "\n",
       "    .dataframe tbody tr th {\n",
       "        vertical-align: top;\n",
       "    }\n",
       "\n",
       "    .dataframe thead th {\n",
       "        text-align: right;\n",
       "    }\n",
       "</style>\n",
       "<table border=\"1\" class=\"dataframe\">\n",
       "  <thead>\n",
       "    <tr style=\"text-align: right;\">\n",
       "      <th></th>\n",
       "      <th>date</th>\n",
       "      <th>city</th>\n",
       "      <th>county</th>\n",
       "      <th>virus</th>\n",
       "      <th>spectype</th>\n",
       "      <th>geometry</th>\n",
       "    </tr>\n",
       "  </thead>\n",
       "  <tbody>\n",
       "    <tr>\n",
       "      <th>0</th>\n",
       "      <td>09/14/2015</td>\n",
       "      <td>Mecca</td>\n",
       "      <td>Riverside</td>\n",
       "      <td>SLEV</td>\n",
       "      <td>Sentinel Chicken</td>\n",
       "      <td>POINT (-116.0302618249568 33.5276819108859)</td>\n",
       "    </tr>\n",
       "    <tr>\n",
       "      <th>1</th>\n",
       "      <td>09/10/2015</td>\n",
       "      <td>Mecca</td>\n",
       "      <td>Riverside</td>\n",
       "      <td>SLEV</td>\n",
       "      <td>Sentinel Chicken</td>\n",
       "      <td>POINT (-116.0749179098212 33.54414473222415)</td>\n",
       "    </tr>\n",
       "    <tr>\n",
       "      <th>2</th>\n",
       "      <td>09/28/2015</td>\n",
       "      <td>Mecca</td>\n",
       "      <td>Riverside</td>\n",
       "      <td>SLEV</td>\n",
       "      <td>Sentinel Chicken</td>\n",
       "      <td>POINT (-116.0788138626815 33.54292818890128)</td>\n",
       "    </tr>\n",
       "    <tr>\n",
       "      <th>3</th>\n",
       "      <td>09/23/2015</td>\n",
       "      <td>Mecca</td>\n",
       "      <td>Riverside</td>\n",
       "      <td>SLEV</td>\n",
       "      <td>Sentinel Chicken</td>\n",
       "      <td>POINT (-116.0293803087907 33.5347901760566)</td>\n",
       "    </tr>\n",
       "    <tr>\n",
       "      <th>4</th>\n",
       "      <td>09/24/2015</td>\n",
       "      <td>Mecca</td>\n",
       "      <td>Riverside</td>\n",
       "      <td>SLEV</td>\n",
       "      <td>Sentinel Chicken</td>\n",
       "      <td>POINT (-116.0755536165777 33.54329531806545)</td>\n",
       "    </tr>\n",
       "  </tbody>\n",
       "</table>\n",
       "</div>"
      ],
      "text/plain": [
       "         date   city     county virus          spectype  \\\n",
       "0  09/14/2015  Mecca  Riverside  SLEV  Sentinel Chicken   \n",
       "1  09/10/2015  Mecca  Riverside  SLEV  Sentinel Chicken   \n",
       "2  09/28/2015  Mecca  Riverside  SLEV  Sentinel Chicken   \n",
       "3  09/23/2015  Mecca  Riverside  SLEV  Sentinel Chicken   \n",
       "4  09/24/2015  Mecca  Riverside  SLEV  Sentinel Chicken   \n",
       "\n",
       "                                       geometry  \n",
       "0   POINT (-116.0302618249568 33.5276819108859)  \n",
       "1  POINT (-116.0749179098212 33.54414473222415)  \n",
       "2  POINT (-116.0788138626815 33.54292818890128)  \n",
       "3   POINT (-116.0293803087907 33.5347901760566)  \n",
       "4  POINT (-116.0755536165777 33.54329531806545)  "
      ]
     },
     "execution_count": 15,
     "metadata": {},
     "output_type": "execute_result"
    }
   ],
   "source": [
    "sle_data.head()"
   ]
  },
  {
   "cell_type": "markdown",
   "metadata": {},
   "source": [
    "### There are quite a few null values for city so wil break things out into two separate dataframes and recombine once those get values"
   ]
  },
  {
   "cell_type": "code",
   "execution_count": 16,
   "metadata": {},
   "outputs": [],
   "source": [
    "sle_fully_populated = sle_data.loc[sle_data['city'].notnull()]\n",
    "sle_null_city = sle_data.loc[sle_data['city'].isnull()]"
   ]
  },
  {
   "cell_type": "markdown",
   "metadata": {},
   "source": [
    "### Need lat/lon coordinates in our *sle_null_city* dataframe to be able to reverse geocode, so create these columns from the geometry column"
   ]
  },
  {
   "cell_type": "code",
   "execution_count": 17,
   "metadata": {},
   "outputs": [
    {
     "name": "stderr",
     "output_type": "stream",
     "text": [
      "/home/mjb/anaconda3/envs/nmpFinalProject/lib/python3.7/site-packages/ipykernel_launcher.py:1: SettingWithCopyWarning: \n",
      "A value is trying to be set on a copy of a slice from a DataFrame.\n",
      "Try using .loc[row_indexer,col_indexer] = value instead\n",
      "\n",
      "See the caveats in the documentation: http://pandas.pydata.org/pandas-docs/stable/indexing.html#indexing-view-versus-copy\n",
      "  \"\"\"Entry point for launching an IPython kernel.\n",
      "/home/mjb/anaconda3/envs/nmpFinalProject/lib/python3.7/site-packages/ipykernel_launcher.py:2: SettingWithCopyWarning: \n",
      "A value is trying to be set on a copy of a slice from a DataFrame.\n",
      "Try using .loc[row_indexer,col_indexer] = value instead\n",
      "\n",
      "See the caveats in the documentation: http://pandas.pydata.org/pandas-docs/stable/indexing.html#indexing-view-versus-copy\n",
      "  \n"
     ]
    }
   ],
   "source": [
    "sle_null_city['lon'] = sle_null_city['geometry'].x\n",
    "sle_null_city['lat'] = sle_null_city['geometry'].y"
   ]
  },
  {
   "cell_type": "markdown",
   "metadata": {},
   "source": [
    "### Use `geopy` to reverse geocode based on our lat/lon coordinates.  The MapBox provider will be used, but there a quite a few to choose from"
   ]
  },
  {
   "cell_type": "code",
   "execution_count": 18,
   "metadata": {},
   "outputs": [
    {
     "name": "stderr",
     "output_type": "stream",
     "text": [
      "/home/mjb/anaconda3/envs/nmpFinalProject/lib/python3.7/site-packages/ipykernel_launcher.py:6: SettingWithCopyWarning: \n",
      "A value is trying to be set on a copy of a slice from a DataFrame.\n",
      "Try using .loc[row_indexer,col_indexer] = value instead\n",
      "\n",
      "See the caveats in the documentation: http://pandas.pydata.org/pandas-docs/stable/indexing.html#indexing-view-versus-copy\n",
      "  \n"
     ]
    }
   ],
   "source": [
    "from geopy.geocoders import MapBox\n",
    "geolocator = MapBox('pk.eyJ1IjoiYmF6aW5pNjI3IiwiYSI6ImVmZTNiM2VlZTlhMjk0NzE3MjU5YmEzZWVkYjUwNjAzIn0.idDK-FJKJn3Q7StDtBOX-g',timeout=20,user_agent=\"sle-geocode\")\n",
    "\n",
    "# Create an address column to populate the results of the reverse gecoding with\n",
    "sle_null_city['address'] = sle_null_city.apply(\n",
    "    lambda row: geolocator.reverse((row['lat'], row['lon'])), axis=1)"
   ]
  },
  {
   "cell_type": "code",
   "execution_count": 19,
   "metadata": {},
   "outputs": [
    {
     "data": {
      "text/html": [
       "<div>\n",
       "<style scoped>\n",
       "    .dataframe tbody tr th:only-of-type {\n",
       "        vertical-align: middle;\n",
       "    }\n",
       "\n",
       "    .dataframe tbody tr th {\n",
       "        vertical-align: top;\n",
       "    }\n",
       "\n",
       "    .dataframe thead th {\n",
       "        text-align: right;\n",
       "    }\n",
       "</style>\n",
       "<table border=\"1\" class=\"dataframe\">\n",
       "  <thead>\n",
       "    <tr style=\"text-align: right;\">\n",
       "      <th></th>\n",
       "      <th>date</th>\n",
       "      <th>city</th>\n",
       "      <th>county</th>\n",
       "      <th>virus</th>\n",
       "      <th>spectype</th>\n",
       "      <th>geometry</th>\n",
       "      <th>lon</th>\n",
       "      <th>lat</th>\n",
       "      <th>address</th>\n",
       "    </tr>\n",
       "  </thead>\n",
       "  <tbody>\n",
       "    <tr>\n",
       "      <th>7</th>\n",
       "      <td>05/16/2016</td>\n",
       "      <td>None</td>\n",
       "      <td>Yuma</td>\n",
       "      <td>SLEV</td>\n",
       "      <td>Sentinel Chicken</td>\n",
       "      <td>POINT (-114.6628399620399 32.62450630721889)</td>\n",
       "      <td>-114.662840</td>\n",
       "      <td>32.624506</td>\n",
       "      <td>(3703 West County 14th Street, Somerton, Arizo...</td>\n",
       "    </tr>\n",
       "    <tr>\n",
       "      <th>8</th>\n",
       "      <td>05/27/2016</td>\n",
       "      <td>None</td>\n",
       "      <td>Yuma</td>\n",
       "      <td>SLEV</td>\n",
       "      <td>Sentinel Chicken</td>\n",
       "      <td>POINT (-114.6673291684298 32.62595933836609)</td>\n",
       "      <td>-114.667329</td>\n",
       "      <td>32.625959</td>\n",
       "      <td>(South Avenue C, Yuma, Arizona 85365, United S...</td>\n",
       "    </tr>\n",
       "    <tr>\n",
       "      <th>13</th>\n",
       "      <td>07/11/2016</td>\n",
       "      <td>None</td>\n",
       "      <td>Yuma</td>\n",
       "      <td>SLEV</td>\n",
       "      <td>Sentinel Chicken</td>\n",
       "      <td>POINT (-114.6637011956284 32.62001534603975)</td>\n",
       "      <td>-114.663701</td>\n",
       "      <td>32.620015</td>\n",
       "      <td>(3762 West Sun Street, Yuma, Arizona 85365, Un...</td>\n",
       "    </tr>\n",
       "    <tr>\n",
       "      <th>18</th>\n",
       "      <td>07/25/2016</td>\n",
       "      <td>None</td>\n",
       "      <td>Yuma</td>\n",
       "      <td>SLEV</td>\n",
       "      <td>Sentinel Chicken</td>\n",
       "      <td>POINT (-114.6681104142361 32.62598977044367)</td>\n",
       "      <td>-114.668110</td>\n",
       "      <td>32.625990</td>\n",
       "      <td>(4115 West County 14th Street, Yuma, Arizona 8...</td>\n",
       "    </tr>\n",
       "    <tr>\n",
       "      <th>97</th>\n",
       "      <td>06/28/2016</td>\n",
       "      <td>None</td>\n",
       "      <td>Riverside</td>\n",
       "      <td>SLEV</td>\n",
       "      <td>Mosquito Pool</td>\n",
       "      <td>POINT (-116.0737912126328 33.52318183677199)</td>\n",
       "      <td>-116.073791</td>\n",
       "      <td>33.523182</td>\n",
       "      <td>(72120 Lincoln Ave, Mecca, California 92254, U...</td>\n",
       "    </tr>\n",
       "  </tbody>\n",
       "</table>\n",
       "</div>"
      ],
      "text/plain": [
       "          date  city     county virus          spectype  \\\n",
       "7   05/16/2016  None       Yuma  SLEV  Sentinel Chicken   \n",
       "8   05/27/2016  None       Yuma  SLEV  Sentinel Chicken   \n",
       "13  07/11/2016  None       Yuma  SLEV  Sentinel Chicken   \n",
       "18  07/25/2016  None       Yuma  SLEV  Sentinel Chicken   \n",
       "97  06/28/2016  None  Riverside  SLEV     Mosquito Pool   \n",
       "\n",
       "                                        geometry         lon        lat  \\\n",
       "7   POINT (-114.6628399620399 32.62450630721889) -114.662840  32.624506   \n",
       "8   POINT (-114.6673291684298 32.62595933836609) -114.667329  32.625959   \n",
       "13  POINT (-114.6637011956284 32.62001534603975) -114.663701  32.620015   \n",
       "18  POINT (-114.6681104142361 32.62598977044367) -114.668110  32.625990   \n",
       "97  POINT (-116.0737912126328 33.52318183677199) -116.073791  33.523182   \n",
       "\n",
       "                                              address  \n",
       "7   (3703 West County 14th Street, Somerton, Arizo...  \n",
       "8   (South Avenue C, Yuma, Arizona 85365, United S...  \n",
       "13  (3762 West Sun Street, Yuma, Arizona 85365, Un...  \n",
       "18  (4115 West County 14th Street, Yuma, Arizona 8...  \n",
       "97  (72120 Lincoln Ave, Mecca, California 92254, U...  "
      ]
     },
     "execution_count": 19,
     "metadata": {},
     "output_type": "execute_result"
    }
   ],
   "source": [
    "sle_null_city.head()"
   ]
  },
  {
   "cell_type": "markdown",
   "metadata": {},
   "source": [
    "### Looks like our first four entries are actually in Arizona so we can drop those based on the county values.  No other rows have a county value of Yuma and are in CA"
   ]
  },
  {
   "cell_type": "code",
   "execution_count": 20,
   "metadata": {},
   "outputs": [],
   "source": [
    "sle_null_city_no_az = sle_null_city.loc[sle_null_city['county'] != 'Yuma']"
   ]
  },
  {
   "cell_type": "markdown",
   "metadata": {},
   "source": [
    "### Now we can loop through the address column to pull out the city from the returned address.\n",
    "### Shapely objects will be converted to strings, otherwise they can't be iterated over to pull out the city name"
   ]
  },
  {
   "cell_type": "code",
   "execution_count": 21,
   "metadata": {},
   "outputs": [
    {
     "name": "stdout",
     "output_type": "stream",
     "text": [
      "['Mecca', 'Mecca', 'Fresno', 'Lemoore', 'Kerman', 'Fresno', 'Firebaugh', 'Firebaugh', 'Mendota', 'Mendota', 'Firebaugh', 'Fresno', 'Coalinga', 'Firebaugh', 'Firebaugh', 'Firebaugh', 'Firebaugh', 'Firebaugh', 'Firebaugh', 'Firebaugh', 'Firebaugh', 'Firebaugh', 'Fresno', 'Visalia', 'Fresno', 'Fresno', 'Fresno', 'Visalia', 'Fresno', 'Fresno', 'Visalia', 'Visalia', 'Lemoore', 'Lemoore', 'Lemoore', 'Lemoore', 'Lemoore', 'Madera', 'Fresno']\n"
     ]
    }
   ],
   "source": [
    "# Empty list to hold extracted city\n",
    "cities = []\n",
    "\n",
    "# Address column to a list \n",
    "addies = sle_null_city_no_az['address'].tolist()\n",
    "\n",
    "# Loop through the addresses, pull out the city and append to cities list \n",
    "for addy in addies:\n",
    "    \n",
    "    # Convert Shapely object to a string\n",
    "    addy_as_string = str(addy)\n",
    "   \n",
    "    # Regex looking for something like City,California anywhere in our address string\n",
    "    city_state = re.search(\"([A-Z][a-z]+)+,\\s[C][a]+\", addy_as_string)\n",
    "        \n",
    "    # If we have a match append the city to our cities list \n",
    "    if city_state:\n",
    "        cities.append(city_state.group(1))\n",
    "\n",
    "print(cities)"
   ]
  },
  {
   "cell_type": "markdown",
   "metadata": {},
   "source": [
    "### The null *city* column in our *sle_null_city_no_az* dataframe can now be replaced with our cities list"
   ]
  },
  {
   "cell_type": "code",
   "execution_count": 22,
   "metadata": {},
   "outputs": [
    {
     "name": "stderr",
     "output_type": "stream",
     "text": [
      "/home/mjb/anaconda3/envs/nmpFinalProject/lib/python3.7/site-packages/pandas/core/frame.py:3930: SettingWithCopyWarning: \n",
      "A value is trying to be set on a copy of a slice from a DataFrame\n",
      "\n",
      "See the caveats in the documentation: http://pandas.pydata.org/pandas-docs/stable/indexing.html#indexing-view-versus-copy\n",
      "  errors=errors)\n"
     ]
    }
   ],
   "source": [
    "# Drop our original city column\n",
    "sle_null_city_no_az.drop(columns=['city'], axis=1, inplace=True)"
   ]
  },
  {
   "cell_type": "code",
   "execution_count": 23,
   "metadata": {},
   "outputs": [
    {
     "name": "stderr",
     "output_type": "stream",
     "text": [
      "/home/mjb/anaconda3/envs/nmpFinalProject/lib/python3.7/site-packages/ipykernel_launcher.py:2: SettingWithCopyWarning: \n",
      "A value is trying to be set on a copy of a slice from a DataFrame.\n",
      "Try using .loc[row_indexer,col_indexer] = value instead\n",
      "\n",
      "See the caveats in the documentation: http://pandas.pydata.org/pandas-docs/stable/indexing.html#indexing-view-versus-copy\n",
      "  \n"
     ]
    }
   ],
   "source": [
    "# Add the column back in, populated with the cities list \n",
    "sle_null_city_no_az['city'] = cities"
   ]
  },
  {
   "cell_type": "markdown",
   "metadata": {},
   "source": [
    "### We can drop our lat, lon, and address columns now"
   ]
  },
  {
   "cell_type": "code",
   "execution_count": 24,
   "metadata": {},
   "outputs": [],
   "source": [
    "sle_null_city_no_az.drop(columns=['lon', 'lat', 'address'], axis=1, inplace=True)"
   ]
  },
  {
   "cell_type": "code",
   "execution_count": 25,
   "metadata": {},
   "outputs": [
    {
     "data": {
      "text/html": [
       "<div>\n",
       "<style scoped>\n",
       "    .dataframe tbody tr th:only-of-type {\n",
       "        vertical-align: middle;\n",
       "    }\n",
       "\n",
       "    .dataframe tbody tr th {\n",
       "        vertical-align: top;\n",
       "    }\n",
       "\n",
       "    .dataframe thead th {\n",
       "        text-align: right;\n",
       "    }\n",
       "</style>\n",
       "<table border=\"1\" class=\"dataframe\">\n",
       "  <thead>\n",
       "    <tr style=\"text-align: right;\">\n",
       "      <th></th>\n",
       "      <th>date</th>\n",
       "      <th>county</th>\n",
       "      <th>virus</th>\n",
       "      <th>spectype</th>\n",
       "      <th>geometry</th>\n",
       "      <th>city</th>\n",
       "    </tr>\n",
       "  </thead>\n",
       "  <tbody>\n",
       "    <tr>\n",
       "      <th>97</th>\n",
       "      <td>06/28/2016</td>\n",
       "      <td>Riverside</td>\n",
       "      <td>SLEV</td>\n",
       "      <td>Mosquito Pool</td>\n",
       "      <td>POINT (-116.0737912126328 33.52318183677199)</td>\n",
       "      <td>Mecca</td>\n",
       "    </tr>\n",
       "    <tr>\n",
       "      <th>108</th>\n",
       "      <td>07/12/2016</td>\n",
       "      <td>Riverside</td>\n",
       "      <td>SLEV</td>\n",
       "      <td>Mosquito Pool</td>\n",
       "      <td>POINT (-116.0702315447287 33.52206039207996)</td>\n",
       "      <td>Mecca</td>\n",
       "    </tr>\n",
       "    <tr>\n",
       "      <th>257</th>\n",
       "      <td>06/09/2017</td>\n",
       "      <td>Fresno</td>\n",
       "      <td>SLEV</td>\n",
       "      <td>Mosquito Pool</td>\n",
       "      <td>POINT (-119.8905351402999 36.84060898276345)</td>\n",
       "      <td>Fresno</td>\n",
       "    </tr>\n",
       "    <tr>\n",
       "      <th>269</th>\n",
       "      <td>07/18/2017</td>\n",
       "      <td>Kings</td>\n",
       "      <td>SLEV</td>\n",
       "      <td>Mosquito Pool</td>\n",
       "      <td>POINT (-119.8417328833465 36.38332703027084)</td>\n",
       "      <td>Lemoore</td>\n",
       "    </tr>\n",
       "    <tr>\n",
       "      <th>281</th>\n",
       "      <td>08/03/2017</td>\n",
       "      <td>Fresno</td>\n",
       "      <td>SLEV</td>\n",
       "      <td>Mosquito Pool</td>\n",
       "      <td>POINT (-120.3300749617084 36.71340983546221)</td>\n",
       "      <td>Kerman</td>\n",
       "    </tr>\n",
       "  </tbody>\n",
       "</table>\n",
       "</div>"
      ],
      "text/plain": [
       "           date     county virus       spectype  \\\n",
       "97   06/28/2016  Riverside  SLEV  Mosquito Pool   \n",
       "108  07/12/2016  Riverside  SLEV  Mosquito Pool   \n",
       "257  06/09/2017     Fresno  SLEV  Mosquito Pool   \n",
       "269  07/18/2017      Kings  SLEV  Mosquito Pool   \n",
       "281  08/03/2017     Fresno  SLEV  Mosquito Pool   \n",
       "\n",
       "                                         geometry     city  \n",
       "97   POINT (-116.0737912126328 33.52318183677199)    Mecca  \n",
       "108  POINT (-116.0702315447287 33.52206039207996)    Mecca  \n",
       "257  POINT (-119.8905351402999 36.84060898276345)   Fresno  \n",
       "269  POINT (-119.8417328833465 36.38332703027084)  Lemoore  \n",
       "281  POINT (-120.3300749617084 36.71340983546221)   Kerman  "
      ]
     },
     "execution_count": 25,
     "metadata": {},
     "output_type": "execute_result"
    }
   ],
   "source": [
    "sle_null_city_no_az.head()"
   ]
  },
  {
   "cell_type": "markdown",
   "metadata": {},
   "source": [
    "### Now we can combine our dateframes.  We can just use concat since they have the same columns"
   ]
  },
  {
   "cell_type": "code",
   "execution_count": 26,
   "metadata": {},
   "outputs": [],
   "source": [
    "sle_merged = pd.concat([sle_fully_populated,sle_null_city_no_az], sort=True)"
   ]
  },
  {
   "cell_type": "code",
   "execution_count": 27,
   "metadata": {},
   "outputs": [
    {
     "data": {
      "text/html": [
       "<div>\n",
       "<style scoped>\n",
       "    .dataframe tbody tr th:only-of-type {\n",
       "        vertical-align: middle;\n",
       "    }\n",
       "\n",
       "    .dataframe tbody tr th {\n",
       "        vertical-align: top;\n",
       "    }\n",
       "\n",
       "    .dataframe thead th {\n",
       "        text-align: right;\n",
       "    }\n",
       "</style>\n",
       "<table border=\"1\" class=\"dataframe\">\n",
       "  <thead>\n",
       "    <tr style=\"text-align: right;\">\n",
       "      <th></th>\n",
       "      <th>city</th>\n",
       "      <th>county</th>\n",
       "      <th>date</th>\n",
       "      <th>geometry</th>\n",
       "      <th>spectype</th>\n",
       "      <th>virus</th>\n",
       "    </tr>\n",
       "  </thead>\n",
       "  <tbody>\n",
       "    <tr>\n",
       "      <th>0</th>\n",
       "      <td>Mecca</td>\n",
       "      <td>Riverside</td>\n",
       "      <td>09/14/2015</td>\n",
       "      <td>POINT (-116.0302618249568 33.5276819108859)</td>\n",
       "      <td>Sentinel Chicken</td>\n",
       "      <td>SLEV</td>\n",
       "    </tr>\n",
       "    <tr>\n",
       "      <th>1</th>\n",
       "      <td>Mecca</td>\n",
       "      <td>Riverside</td>\n",
       "      <td>09/10/2015</td>\n",
       "      <td>POINT (-116.0749179098212 33.54414473222415)</td>\n",
       "      <td>Sentinel Chicken</td>\n",
       "      <td>SLEV</td>\n",
       "    </tr>\n",
       "    <tr>\n",
       "      <th>2</th>\n",
       "      <td>Mecca</td>\n",
       "      <td>Riverside</td>\n",
       "      <td>09/28/2015</td>\n",
       "      <td>POINT (-116.0788138626815 33.54292818890128)</td>\n",
       "      <td>Sentinel Chicken</td>\n",
       "      <td>SLEV</td>\n",
       "    </tr>\n",
       "    <tr>\n",
       "      <th>3</th>\n",
       "      <td>Mecca</td>\n",
       "      <td>Riverside</td>\n",
       "      <td>09/23/2015</td>\n",
       "      <td>POINT (-116.0293803087907 33.5347901760566)</td>\n",
       "      <td>Sentinel Chicken</td>\n",
       "      <td>SLEV</td>\n",
       "    </tr>\n",
       "    <tr>\n",
       "      <th>4</th>\n",
       "      <td>Mecca</td>\n",
       "      <td>Riverside</td>\n",
       "      <td>09/24/2015</td>\n",
       "      <td>POINT (-116.0755536165777 33.54329531806545)</td>\n",
       "      <td>Sentinel Chicken</td>\n",
       "      <td>SLEV</td>\n",
       "    </tr>\n",
       "  </tbody>\n",
       "</table>\n",
       "</div>"
      ],
      "text/plain": [
       "    city     county        date                                      geometry  \\\n",
       "0  Mecca  Riverside  09/14/2015   POINT (-116.0302618249568 33.5276819108859)   \n",
       "1  Mecca  Riverside  09/10/2015  POINT (-116.0749179098212 33.54414473222415)   \n",
       "2  Mecca  Riverside  09/28/2015  POINT (-116.0788138626815 33.54292818890128)   \n",
       "3  Mecca  Riverside  09/23/2015   POINT (-116.0293803087907 33.5347901760566)   \n",
       "4  Mecca  Riverside  09/24/2015  POINT (-116.0755536165777 33.54329531806545)   \n",
       "\n",
       "           spectype virus  \n",
       "0  Sentinel Chicken  SLEV  \n",
       "1  Sentinel Chicken  SLEV  \n",
       "2  Sentinel Chicken  SLEV  \n",
       "3  Sentinel Chicken  SLEV  \n",
       "4  Sentinel Chicken  SLEV  "
      ]
     },
     "execution_count": 27,
     "metadata": {},
     "output_type": "execute_result"
    }
   ],
   "source": [
    "sle_merged.head()"
   ]
  },
  {
   "cell_type": "markdown",
   "metadata": {},
   "source": [
    "### Output to geojson"
   ]
  },
  {
   "cell_type": "code",
   "execution_count": 28,
   "metadata": {},
   "outputs": [
    {
     "name": "stderr",
     "output_type": "stream",
     "text": [
      "/home/mjb/anaconda3/envs/nmpFinalProject/lib/python3.7/site-packages/geopandas/io/file.py:108: FionaDeprecationWarning: Use fiona.Env() instead.\n",
      "  with fiona.drivers():\n"
     ]
    }
   ],
   "source": [
    "sle_merged.to_file('./data/sle/output/sle2015_2018_cleaned.geojson', driver=\"GeoJSON\")"
   ]
  },
  {
   "cell_type": "markdown",
   "metadata": {},
   "source": [
    "### Checked the output with [geojson.io](geojson.io) and noticed that a few points are in Arizona, so those will have to be dropped"
   ]
  },
  {
   "cell_type": "code",
   "execution_count": 29,
   "metadata": {},
   "outputs": [
    {
     "data": {
      "text/html": [
       "<div>\n",
       "<style scoped>\n",
       "    .dataframe tbody tr th:only-of-type {\n",
       "        vertical-align: middle;\n",
       "    }\n",
       "\n",
       "    .dataframe tbody tr th {\n",
       "        vertical-align: top;\n",
       "    }\n",
       "\n",
       "    .dataframe thead th {\n",
       "        text-align: right;\n",
       "    }\n",
       "</style>\n",
       "<table border=\"1\" class=\"dataframe\">\n",
       "  <thead>\n",
       "    <tr style=\"text-align: right;\">\n",
       "      <th></th>\n",
       "      <th>city</th>\n",
       "      <th>county</th>\n",
       "      <th>date</th>\n",
       "      <th>geometry</th>\n",
       "      <th>spectype</th>\n",
       "      <th>virus</th>\n",
       "    </tr>\n",
       "  </thead>\n",
       "  <tbody>\n",
       "    <tr>\n",
       "      <th>9</th>\n",
       "      <td>Yuma</td>\n",
       "      <td>Yuma</td>\n",
       "      <td>06/28/2016</td>\n",
       "      <td>POINT (-114.6692054769902 32.71421646906434)</td>\n",
       "      <td>Sentinel Chicken</td>\n",
       "      <td>SLEV</td>\n",
       "    </tr>\n",
       "    <tr>\n",
       "      <th>10</th>\n",
       "      <td>Gila Valley</td>\n",
       "      <td>Yuma</td>\n",
       "      <td>06/28/2016</td>\n",
       "      <td>POINT (-114.5544002242594 32.7015640995177)</td>\n",
       "      <td>Sentinel Chicken</td>\n",
       "      <td>SLEV</td>\n",
       "    </tr>\n",
       "    <tr>\n",
       "      <th>12</th>\n",
       "      <td>Yuma</td>\n",
       "      <td>Yuma</td>\n",
       "      <td>07/11/2016</td>\n",
       "      <td>POINT (-114.6733321336425 32.715117333355)</td>\n",
       "      <td>Sentinel Chicken</td>\n",
       "      <td>SLEV</td>\n",
       "    </tr>\n",
       "    <tr>\n",
       "      <th>14</th>\n",
       "      <td>Gila Valley</td>\n",
       "      <td>Yuma</td>\n",
       "      <td>07/11/2016</td>\n",
       "      <td>POINT (-114.5500644238585 32.70499937955419)</td>\n",
       "      <td>Sentinel Chicken</td>\n",
       "      <td>SLEV</td>\n",
       "    </tr>\n",
       "    <tr>\n",
       "      <th>17</th>\n",
       "      <td>Yuma</td>\n",
       "      <td>Yuma</td>\n",
       "      <td>07/25/2016</td>\n",
       "      <td>POINT (-114.6702023915953 32.71511557577822)</td>\n",
       "      <td>Sentinel Chicken</td>\n",
       "      <td>SLEV</td>\n",
       "    </tr>\n",
       "    <tr>\n",
       "      <th>19</th>\n",
       "      <td>Gila Valley</td>\n",
       "      <td>Yuma</td>\n",
       "      <td>07/25/2016</td>\n",
       "      <td>POINT (-114.5529591370368 32.70235551859694)</td>\n",
       "      <td>Sentinel Chicken</td>\n",
       "      <td>SLEV</td>\n",
       "    </tr>\n",
       "    <tr>\n",
       "      <th>20</th>\n",
       "      <td>Yuma</td>\n",
       "      <td>Yuma</td>\n",
       "      <td>08/06/2016</td>\n",
       "      <td>POINT (-114.6688277204835 32.7188197513739)</td>\n",
       "      <td>Sentinel Chicken</td>\n",
       "      <td>SLEV</td>\n",
       "    </tr>\n",
       "    <tr>\n",
       "      <th>21</th>\n",
       "      <td>Gila Valley</td>\n",
       "      <td>Yuma</td>\n",
       "      <td>08/06/2016</td>\n",
       "      <td>POINT (-114.5509169943425 32.70153210108912)</td>\n",
       "      <td>Sentinel Chicken</td>\n",
       "      <td>SLEV</td>\n",
       "    </tr>\n",
       "    <tr>\n",
       "      <th>22</th>\n",
       "      <td>Yuma</td>\n",
       "      <td>Yuma</td>\n",
       "      <td>08/22/2016</td>\n",
       "      <td>POINT (-114.6677785973156 32.71252704576695)</td>\n",
       "      <td>Sentinel Chicken</td>\n",
       "      <td>SLEV</td>\n",
       "    </tr>\n",
       "    <tr>\n",
       "      <th>23</th>\n",
       "      <td>Gila Valley</td>\n",
       "      <td>Yuma</td>\n",
       "      <td>08/22/2016</td>\n",
       "      <td>POINT (-114.5488683215499 32.70624469069669)</td>\n",
       "      <td>Sentinel Chicken</td>\n",
       "      <td>SLEV</td>\n",
       "    </tr>\n",
       "    <tr>\n",
       "      <th>25</th>\n",
       "      <td>Yuma</td>\n",
       "      <td>Yuma</td>\n",
       "      <td>09/06/2016</td>\n",
       "      <td>POINT (-114.6696194906091 32.71239508804344)</td>\n",
       "      <td>Sentinel Chicken</td>\n",
       "      <td>SLEV</td>\n",
       "    </tr>\n",
       "    <tr>\n",
       "      <th>26</th>\n",
       "      <td>Gila Valley</td>\n",
       "      <td>Yuma</td>\n",
       "      <td>09/06/2016</td>\n",
       "      <td>POINT (-114.5473451788178 32.70644429019259)</td>\n",
       "      <td>Sentinel Chicken</td>\n",
       "      <td>SLEV</td>\n",
       "    </tr>\n",
       "  </tbody>\n",
       "</table>\n",
       "</div>"
      ],
      "text/plain": [
       "           city county        date  \\\n",
       "9          Yuma   Yuma  06/28/2016   \n",
       "10  Gila Valley   Yuma  06/28/2016   \n",
       "12         Yuma   Yuma  07/11/2016   \n",
       "14  Gila Valley   Yuma  07/11/2016   \n",
       "17         Yuma   Yuma  07/25/2016   \n",
       "19  Gila Valley   Yuma  07/25/2016   \n",
       "20         Yuma   Yuma  08/06/2016   \n",
       "21  Gila Valley   Yuma  08/06/2016   \n",
       "22         Yuma   Yuma  08/22/2016   \n",
       "23  Gila Valley   Yuma  08/22/2016   \n",
       "25         Yuma   Yuma  09/06/2016   \n",
       "26  Gila Valley   Yuma  09/06/2016   \n",
       "\n",
       "                                        geometry          spectype virus  \n",
       "9   POINT (-114.6692054769902 32.71421646906434)  Sentinel Chicken  SLEV  \n",
       "10   POINT (-114.5544002242594 32.7015640995177)  Sentinel Chicken  SLEV  \n",
       "12    POINT (-114.6733321336425 32.715117333355)  Sentinel Chicken  SLEV  \n",
       "14  POINT (-114.5500644238585 32.70499937955419)  Sentinel Chicken  SLEV  \n",
       "17  POINT (-114.6702023915953 32.71511557577822)  Sentinel Chicken  SLEV  \n",
       "19  POINT (-114.5529591370368 32.70235551859694)  Sentinel Chicken  SLEV  \n",
       "20   POINT (-114.6688277204835 32.7188197513739)  Sentinel Chicken  SLEV  \n",
       "21  POINT (-114.5509169943425 32.70153210108912)  Sentinel Chicken  SLEV  \n",
       "22  POINT (-114.6677785973156 32.71252704576695)  Sentinel Chicken  SLEV  \n",
       "23  POINT (-114.5488683215499 32.70624469069669)  Sentinel Chicken  SLEV  \n",
       "25  POINT (-114.6696194906091 32.71239508804344)  Sentinel Chicken  SLEV  \n",
       "26  POINT (-114.5473451788178 32.70644429019259)  Sentinel Chicken  SLEV  "
      ]
     },
     "execution_count": 29,
     "metadata": {},
     "output_type": "execute_result"
    }
   ],
   "source": [
    "# All the points are in Yuma county\n",
    "sle_merged.loc[sle_merged['county'] == 'Yuma']"
   ]
  },
  {
   "cell_type": "markdown",
   "metadata": {},
   "source": [
    "### Drop the rows and make sure only 12 rows are removed"
   ]
  },
  {
   "cell_type": "code",
   "execution_count": 30,
   "metadata": {},
   "outputs": [
    {
     "name": "stdout",
     "output_type": "stream",
     "text": [
      "<class 'geopandas.geodataframe.GeoDataFrame'>\n",
      "Int64Index: 819 entries, 0 to 778\n",
      "Data columns (total 6 columns):\n",
      "city        819 non-null object\n",
      "county      819 non-null object\n",
      "date        819 non-null object\n",
      "geometry    819 non-null object\n",
      "spectype    819 non-null object\n",
      "virus       819 non-null object\n",
      "dtypes: object(6)\n",
      "memory usage: 44.8+ KB\n"
     ]
    }
   ],
   "source": [
    "sle_merged.info()"
   ]
  },
  {
   "cell_type": "code",
   "execution_count": 31,
   "metadata": {},
   "outputs": [],
   "source": [
    "sle_merged_no_az = sle_merged.loc[sle_merged['county'] != 'Yuma']"
   ]
  },
  {
   "cell_type": "code",
   "execution_count": 32,
   "metadata": {},
   "outputs": [
    {
     "name": "stdout",
     "output_type": "stream",
     "text": [
      "<class 'geopandas.geodataframe.GeoDataFrame'>\n",
      "Int64Index: 807 entries, 0 to 778\n",
      "Data columns (total 6 columns):\n",
      "city        807 non-null object\n",
      "county      807 non-null object\n",
      "date        807 non-null object\n",
      "geometry    807 non-null object\n",
      "spectype    807 non-null object\n",
      "virus       807 non-null object\n",
      "dtypes: object(6)\n",
      "memory usage: 44.1+ KB\n"
     ]
    }
   ],
   "source": [
    "sle_merged_no_az.info()"
   ]
  },
  {
   "cell_type": "markdown",
   "metadata": {},
   "source": [
    "### Convert date column to a pandas date type which will then be converted to a unix timestamp"
   ]
  },
  {
   "cell_type": "code",
   "execution_count": 33,
   "metadata": {},
   "outputs": [],
   "source": [
    "#sle_merged_no_az['date'] = pd.to_datetime(sle_merged_no_az['date'])"
   ]
  },
  {
   "cell_type": "code",
   "execution_count": 34,
   "metadata": {},
   "outputs": [],
   "source": [
    "#sle_merged_no_az.info()"
   ]
  },
  {
   "cell_type": "markdown",
   "metadata": {},
   "source": [
    "### Convert pandas timestamps to unix timestamps"
   ]
  },
  {
   "cell_type": "code",
   "execution_count": 35,
   "metadata": {},
   "outputs": [],
   "source": [
    "#sle_merged_no_az['date'] = sle_merged_no_az['date'].astype(np.int64)"
   ]
  },
  {
   "cell_type": "code",
   "execution_count": 36,
   "metadata": {},
   "outputs": [],
   "source": [
    "#sle_merged_no_az.head()"
   ]
  },
  {
   "cell_type": "code",
   "execution_count": 37,
   "metadata": {},
   "outputs": [],
   "source": [
    "#sle_merged_no_az.info()"
   ]
  },
  {
   "cell_type": "markdown",
   "metadata": {},
   "source": [
    "### Test converting back to make sure process works okay"
   ]
  },
  {
   "cell_type": "code",
   "execution_count": 38,
   "metadata": {},
   "outputs": [],
   "source": [
    "#print (pd.to_datetime(sle_merged_no_az['date'], unit='ns'))"
   ]
  },
  {
   "cell_type": "markdown",
   "metadata": {},
   "source": [
    "### Conversion back seems to have worked okay so can output to GeoJSON now"
   ]
  },
  {
   "cell_type": "markdown",
   "metadata": {},
   "source": [
    "### Output to GeoJSON"
   ]
  },
  {
   "cell_type": "code",
   "execution_count": 39,
   "metadata": {},
   "outputs": [],
   "source": [
    "sle_merged_no_az.to_file('./data/sle/output/sle2015_2018_cleaned.geojson', driver=\"GeoJSON\")"
   ]
  },
  {
   "cell_type": "code",
   "execution_count": null,
   "metadata": {},
   "outputs": [],
   "source": []
  }
 ],
 "metadata": {
  "kernelspec": {
   "display_name": "Python 3",
   "language": "python",
   "name": "python3"
  },
  "language_info": {
   "codemirror_mode": {
    "name": "ipython",
    "version": 3
   },
   "file_extension": ".py",
   "mimetype": "text/x-python",
   "name": "python",
   "nbconvert_exporter": "python",
   "pygments_lexer": "ipython3",
   "version": "3.7.2"
  }
 },
 "nbformat": 4,
 "nbformat_minor": 2
}
