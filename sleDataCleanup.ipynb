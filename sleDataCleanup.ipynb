{
 "cells": [
  {
   "cell_type": "code",
   "execution_count": 73,
   "metadata": {},
   "outputs": [],
   "source": [
    "import geopandas as gpd"
   ]
  },
  {
   "cell_type": "markdown",
   "metadata": {},
   "source": [
    "### Read in the SLE GeoJSON for 2015 to 2018"
   ]
  },
  {
   "cell_type": "code",
   "execution_count": 74,
   "metadata": {},
   "outputs": [],
   "source": [
    "sle_data = gpd.read_file('./data/sle/output/sle2015_2018.geojson')"
   ]
  },
  {
   "cell_type": "code",
   "execution_count": 75,
   "metadata": {},
   "outputs": [
    {
     "data": {
      "text/html": [
       "<div>\n",
       "<style scoped>\n",
       "    .dataframe tbody tr th:only-of-type {\n",
       "        vertical-align: middle;\n",
       "    }\n",
       "\n",
       "    .dataframe tbody tr th {\n",
       "        vertical-align: top;\n",
       "    }\n",
       "\n",
       "    .dataframe thead th {\n",
       "        text-align: right;\n",
       "    }\n",
       "</style>\n",
       "<table border=\"1\" class=\"dataframe\">\n",
       "  <thead>\n",
       "    <tr style=\"text-align: right;\">\n",
       "      <th></th>\n",
       "      <th>date</th>\n",
       "      <th>city</th>\n",
       "      <th>region</th>\n",
       "      <th>positive</th>\n",
       "      <th>title</th>\n",
       "      <th>geometry</th>\n",
       "    </tr>\n",
       "  </thead>\n",
       "  <tbody>\n",
       "    <tr>\n",
       "      <th>0</th>\n",
       "      <td>09/14/2015</td>\n",
       "      <td>Mecca</td>\n",
       "      <td>Riverside County (California, USA)</td>\n",
       "      <td>SLEV</td>\n",
       "      <td>YTD Positive Sentinel Chicken</td>\n",
       "      <td>POINT (-116.0302618249568 33.5276819108859)</td>\n",
       "    </tr>\n",
       "    <tr>\n",
       "      <th>1</th>\n",
       "      <td>09/10/2015</td>\n",
       "      <td>Mecca</td>\n",
       "      <td>Riverside County (California, USA)</td>\n",
       "      <td>SLEV</td>\n",
       "      <td>YTD Positive Sentinel Chicken</td>\n",
       "      <td>POINT (-116.0749179098212 33.54414473222415)</td>\n",
       "    </tr>\n",
       "    <tr>\n",
       "      <th>2</th>\n",
       "      <td>09/28/2015</td>\n",
       "      <td>Mecca</td>\n",
       "      <td>Riverside County (California, USA)</td>\n",
       "      <td>SLEV</td>\n",
       "      <td>YTD Positive Sentinel Chicken</td>\n",
       "      <td>POINT (-116.0788138626815 33.54292818890128)</td>\n",
       "    </tr>\n",
       "    <tr>\n",
       "      <th>3</th>\n",
       "      <td>09/23/2015</td>\n",
       "      <td>Mecca</td>\n",
       "      <td>Riverside County (California, USA)</td>\n",
       "      <td>SLEV</td>\n",
       "      <td>YTD Positive Sentinel Chicken</td>\n",
       "      <td>POINT (-116.0293803087907 33.5347901760566)</td>\n",
       "    </tr>\n",
       "    <tr>\n",
       "      <th>4</th>\n",
       "      <td>09/24/2015</td>\n",
       "      <td>Mecca</td>\n",
       "      <td>Riverside County (California, USA)</td>\n",
       "      <td>SLEV</td>\n",
       "      <td>YTD Positive Sentinel Chicken</td>\n",
       "      <td>POINT (-116.0755536165777 33.54329531806545)</td>\n",
       "    </tr>\n",
       "  </tbody>\n",
       "</table>\n",
       "</div>"
      ],
      "text/plain": [
       "         date   city                              region positive  \\\n",
       "0  09/14/2015  Mecca  Riverside County (California, USA)     SLEV   \n",
       "1  09/10/2015  Mecca  Riverside County (California, USA)     SLEV   \n",
       "2  09/28/2015  Mecca  Riverside County (California, USA)     SLEV   \n",
       "3  09/23/2015  Mecca  Riverside County (California, USA)     SLEV   \n",
       "4  09/24/2015  Mecca  Riverside County (California, USA)     SLEV   \n",
       "\n",
       "                           title                                      geometry  \n",
       "0  YTD Positive Sentinel Chicken   POINT (-116.0302618249568 33.5276819108859)  \n",
       "1  YTD Positive Sentinel Chicken  POINT (-116.0749179098212 33.54414473222415)  \n",
       "2  YTD Positive Sentinel Chicken  POINT (-116.0788138626815 33.54292818890128)  \n",
       "3  YTD Positive Sentinel Chicken   POINT (-116.0293803087907 33.5347901760566)  \n",
       "4  YTD Positive Sentinel Chicken  POINT (-116.0755536165777 33.54329531806545)  "
      ]
     },
     "execution_count": 75,
     "metadata": {},
     "output_type": "execute_result"
    }
   ],
   "source": [
    "sle_data.head()"
   ]
  },
  {
   "cell_type": "markdown",
   "metadata": {},
   "source": [
    "### Make sure all cities are properly capitalized"
   ]
  },
  {
   "cell_type": "code",
   "execution_count": 76,
   "metadata": {},
   "outputs": [],
   "source": [
    "sle_data['city'] = sle_data['city'].str.title()"
   ]
  },
  {
   "cell_type": "markdown",
   "metadata": {},
   "source": [
    "### Loop through the regions and remove '(California, USA)'"
   ]
  },
  {
   "cell_type": "code",
   "execution_count": 77,
   "metadata": {},
   "outputs": [],
   "source": [
    "# Create an empty array that will hold region values\n",
    "regions = []\n",
    "\n",
    "# Loop over the region column\n",
    "for value in sle_data['region']:\n",
    "    if value is None:\n",
    "        regions.append('None')\n",
    "    else:\n",
    "        # Split the name of the value in pieces by ' C' portion of of the current region name \n",
    "        chunks = value.split(' C')\n",
    "        # Keep the first chunk of the split and append\n",
    "        county = chunks[0]\n",
    "        regions.append(county)"
   ]
  },
  {
   "cell_type": "markdown",
   "metadata": {},
   "source": [
    "### Drop the current region column and re-add with the values from the regions list"
   ]
  },
  {
   "cell_type": "code",
   "execution_count": 78,
   "metadata": {},
   "outputs": [],
   "source": [
    "# Drop the column\n",
    "sle_data.drop('region', axis=1, inplace=True)\n",
    "\n",
    "# Add back in using the region array\n",
    "sle_data['region'] = regions"
   ]
  },
  {
   "cell_type": "markdown",
   "metadata": {},
   "source": [
    "### Change values in the title column"
   ]
  },
  {
   "cell_type": "code",
   "execution_count": 79,
   "metadata": {},
   "outputs": [],
   "source": [
    "# Create an empty array that will hold our title values\n",
    "titles = []\n",
    "\n",
    "# Loop over the title column\n",
    "for title in sle_data['title']:\n",
    "    if title == 'YTD Positive Sentinel Chicken':\n",
    "        titles.append('Sentinel Chicken')\n",
    "    elif title == 'YTD Positive Mosquito Pool':\n",
    "        titles.append('Mosquito Pool')"
   ]
  },
  {
   "cell_type": "markdown",
   "metadata": {},
   "source": [
    "### Drop the current title column and re-add with the values from the titles list"
   ]
  },
  {
   "cell_type": "code",
   "execution_count": 80,
   "metadata": {},
   "outputs": [],
   "source": [
    "# Drop the column\n",
    "sle_data.drop('title', axis=1, inplace=True)\n",
    "\n",
    "# Add back in using the region array\n",
    "sle_data['title'] = titles"
   ]
  },
  {
   "cell_type": "markdown",
   "metadata": {},
   "source": [
    "### Rearrange columns newly added columns match the previous arrangement"
   ]
  },
  {
   "cell_type": "code",
   "execution_count": 81,
   "metadata": {},
   "outputs": [],
   "source": [
    "# Add our column names to an array\n",
    "sle_cols = sle_data.columns.tolist()\n",
    "\n",
    "# Rearrange our columns\n",
    "sle_cols_rearranged = ['date','city', 'region', 'positive', 'title', 'geometry']\n",
    "\n",
    "# Assign new arrangement back to dataframe\n",
    "sle_data = sle_data[sle_cols_rearranged]"
   ]
  },
  {
   "cell_type": "code",
   "execution_count": 82,
   "metadata": {},
   "outputs": [
    {
     "data": {
      "text/html": [
       "<div>\n",
       "<style scoped>\n",
       "    .dataframe tbody tr th:only-of-type {\n",
       "        vertical-align: middle;\n",
       "    }\n",
       "\n",
       "    .dataframe tbody tr th {\n",
       "        vertical-align: top;\n",
       "    }\n",
       "\n",
       "    .dataframe thead th {\n",
       "        text-align: right;\n",
       "    }\n",
       "</style>\n",
       "<table border=\"1\" class=\"dataframe\">\n",
       "  <thead>\n",
       "    <tr style=\"text-align: right;\">\n",
       "      <th></th>\n",
       "      <th>date</th>\n",
       "      <th>city</th>\n",
       "      <th>region</th>\n",
       "      <th>positive</th>\n",
       "      <th>title</th>\n",
       "      <th>geometry</th>\n",
       "    </tr>\n",
       "  </thead>\n",
       "  <tbody>\n",
       "    <tr>\n",
       "      <th>0</th>\n",
       "      <td>09/14/2015</td>\n",
       "      <td>Mecca</td>\n",
       "      <td>Riverside</td>\n",
       "      <td>SLEV</td>\n",
       "      <td>Sentinel Chicken</td>\n",
       "      <td>POINT (-116.0302618249568 33.5276819108859)</td>\n",
       "    </tr>\n",
       "    <tr>\n",
       "      <th>1</th>\n",
       "      <td>09/10/2015</td>\n",
       "      <td>Mecca</td>\n",
       "      <td>Riverside</td>\n",
       "      <td>SLEV</td>\n",
       "      <td>Sentinel Chicken</td>\n",
       "      <td>POINT (-116.0749179098212 33.54414473222415)</td>\n",
       "    </tr>\n",
       "    <tr>\n",
       "      <th>2</th>\n",
       "      <td>09/28/2015</td>\n",
       "      <td>Mecca</td>\n",
       "      <td>Riverside</td>\n",
       "      <td>SLEV</td>\n",
       "      <td>Sentinel Chicken</td>\n",
       "      <td>POINT (-116.0788138626815 33.54292818890128)</td>\n",
       "    </tr>\n",
       "    <tr>\n",
       "      <th>3</th>\n",
       "      <td>09/23/2015</td>\n",
       "      <td>Mecca</td>\n",
       "      <td>Riverside</td>\n",
       "      <td>SLEV</td>\n",
       "      <td>Sentinel Chicken</td>\n",
       "      <td>POINT (-116.0293803087907 33.5347901760566)</td>\n",
       "    </tr>\n",
       "    <tr>\n",
       "      <th>4</th>\n",
       "      <td>09/24/2015</td>\n",
       "      <td>Mecca</td>\n",
       "      <td>Riverside</td>\n",
       "      <td>SLEV</td>\n",
       "      <td>Sentinel Chicken</td>\n",
       "      <td>POINT (-116.0755536165777 33.54329531806545)</td>\n",
       "    </tr>\n",
       "  </tbody>\n",
       "</table>\n",
       "</div>"
      ],
      "text/plain": [
       "         date   city     region positive             title  \\\n",
       "0  09/14/2015  Mecca  Riverside     SLEV  Sentinel Chicken   \n",
       "1  09/10/2015  Mecca  Riverside     SLEV  Sentinel Chicken   \n",
       "2  09/28/2015  Mecca  Riverside     SLEV  Sentinel Chicken   \n",
       "3  09/23/2015  Mecca  Riverside     SLEV  Sentinel Chicken   \n",
       "4  09/24/2015  Mecca  Riverside     SLEV  Sentinel Chicken   \n",
       "\n",
       "                                       geometry  \n",
       "0   POINT (-116.0302618249568 33.5276819108859)  \n",
       "1  POINT (-116.0749179098212 33.54414473222415)  \n",
       "2  POINT (-116.0788138626815 33.54292818890128)  \n",
       "3   POINT (-116.0293803087907 33.5347901760566)  \n",
       "4  POINT (-116.0755536165777 33.54329531806545)  "
      ]
     },
     "execution_count": 82,
     "metadata": {},
     "output_type": "execute_result"
    }
   ],
   "source": [
    "sle_data.head()"
   ]
  },
  {
   "cell_type": "markdown",
   "metadata": {},
   "source": [
    "### Rename columns"
   ]
  },
  {
   "cell_type": "code",
   "execution_count": 83,
   "metadata": {},
   "outputs": [],
   "source": [
    "sle_data.rename(columns={'region' : 'county', 'positive' : 'virus', 'title' : 'spectype'}, inplace=True)"
   ]
  },
  {
   "cell_type": "code",
   "execution_count": 84,
   "metadata": {},
   "outputs": [
    {
     "data": {
      "text/html": [
       "<div>\n",
       "<style scoped>\n",
       "    .dataframe tbody tr th:only-of-type {\n",
       "        vertical-align: middle;\n",
       "    }\n",
       "\n",
       "    .dataframe tbody tr th {\n",
       "        vertical-align: top;\n",
       "    }\n",
       "\n",
       "    .dataframe thead th {\n",
       "        text-align: right;\n",
       "    }\n",
       "</style>\n",
       "<table border=\"1\" class=\"dataframe\">\n",
       "  <thead>\n",
       "    <tr style=\"text-align: right;\">\n",
       "      <th></th>\n",
       "      <th>date</th>\n",
       "      <th>city</th>\n",
       "      <th>county</th>\n",
       "      <th>virus</th>\n",
       "      <th>spectype</th>\n",
       "      <th>geometry</th>\n",
       "    </tr>\n",
       "  </thead>\n",
       "  <tbody>\n",
       "    <tr>\n",
       "      <th>0</th>\n",
       "      <td>09/14/2015</td>\n",
       "      <td>Mecca</td>\n",
       "      <td>Riverside</td>\n",
       "      <td>SLEV</td>\n",
       "      <td>Sentinel Chicken</td>\n",
       "      <td>POINT (-116.0302618249568 33.5276819108859)</td>\n",
       "    </tr>\n",
       "    <tr>\n",
       "      <th>1</th>\n",
       "      <td>09/10/2015</td>\n",
       "      <td>Mecca</td>\n",
       "      <td>Riverside</td>\n",
       "      <td>SLEV</td>\n",
       "      <td>Sentinel Chicken</td>\n",
       "      <td>POINT (-116.0749179098212 33.54414473222415)</td>\n",
       "    </tr>\n",
       "    <tr>\n",
       "      <th>2</th>\n",
       "      <td>09/28/2015</td>\n",
       "      <td>Mecca</td>\n",
       "      <td>Riverside</td>\n",
       "      <td>SLEV</td>\n",
       "      <td>Sentinel Chicken</td>\n",
       "      <td>POINT (-116.0788138626815 33.54292818890128)</td>\n",
       "    </tr>\n",
       "    <tr>\n",
       "      <th>3</th>\n",
       "      <td>09/23/2015</td>\n",
       "      <td>Mecca</td>\n",
       "      <td>Riverside</td>\n",
       "      <td>SLEV</td>\n",
       "      <td>Sentinel Chicken</td>\n",
       "      <td>POINT (-116.0293803087907 33.5347901760566)</td>\n",
       "    </tr>\n",
       "    <tr>\n",
       "      <th>4</th>\n",
       "      <td>09/24/2015</td>\n",
       "      <td>Mecca</td>\n",
       "      <td>Riverside</td>\n",
       "      <td>SLEV</td>\n",
       "      <td>Sentinel Chicken</td>\n",
       "      <td>POINT (-116.0755536165777 33.54329531806545)</td>\n",
       "    </tr>\n",
       "  </tbody>\n",
       "</table>\n",
       "</div>"
      ],
      "text/plain": [
       "         date   city     county virus          spectype  \\\n",
       "0  09/14/2015  Mecca  Riverside  SLEV  Sentinel Chicken   \n",
       "1  09/10/2015  Mecca  Riverside  SLEV  Sentinel Chicken   \n",
       "2  09/28/2015  Mecca  Riverside  SLEV  Sentinel Chicken   \n",
       "3  09/23/2015  Mecca  Riverside  SLEV  Sentinel Chicken   \n",
       "4  09/24/2015  Mecca  Riverside  SLEV  Sentinel Chicken   \n",
       "\n",
       "                                       geometry  \n",
       "0   POINT (-116.0302618249568 33.5276819108859)  \n",
       "1  POINT (-116.0749179098212 33.54414473222415)  \n",
       "2  POINT (-116.0788138626815 33.54292818890128)  \n",
       "3   POINT (-116.0293803087907 33.5347901760566)  \n",
       "4  POINT (-116.0755536165777 33.54329531806545)  "
      ]
     },
     "execution_count": 84,
     "metadata": {},
     "output_type": "execute_result"
    }
   ],
   "source": [
    "sle_data.head()"
   ]
  },
  {
   "cell_type": "code",
   "execution_count": 85,
   "metadata": {},
   "outputs": [],
   "source": [
    "sle_data.to_file('./data/sle/output/sle2015_2018_cleaned.geojson', driver=\"GeoJSON\")"
   ]
  },
  {
   "cell_type": "code",
   "execution_count": null,
   "metadata": {},
   "outputs": [],
   "source": []
  }
 ],
 "metadata": {
  "kernelspec": {
   "display_name": "Python 3",
   "language": "python",
   "name": "python3"
  },
  "language_info": {
   "codemirror_mode": {
    "name": "ipython",
    "version": 3
   },
   "file_extension": ".py",
   "mimetype": "text/x-python",
   "name": "python",
   "nbconvert_exporter": "python",
   "pygments_lexer": "ipython3",
   "version": "3.7.2"
  }
 },
 "nbformat": 4,
 "nbformat_minor": 2
}
